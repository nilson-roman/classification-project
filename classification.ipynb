{
 "cells": [
  {
   "cell_type": "code",
   "execution_count": 1,
   "metadata": {},
   "outputs": [
    {
     "name": "stderr",
     "output_type": "stream",
     "text": [
      "C:\\Users\\nilso\\Anaconda3\\lib\\site-packages\\sklearn\\utils\\deprecation.py:144: FutureWarning: The sklearn.metrics.classification module is  deprecated in version 0.22 and will be removed in version 0.24. The corresponding classes / functions should instead be imported from sklearn.metrics. Anything that cannot be imported from sklearn.metrics is now part of the private API.\n",
      "  warnings.warn(message, FutureWarning)\n"
     ]
    }
   ],
   "source": [
    "import pandas as pd\n",
    "import numpy as np\n",
    "import matplotlib.pyplot as plt\n",
    "import seaborn as sns\n",
    "from sklearn.model_selection import train_test_split, learning_curve, RandomizedSearchCV\n",
    "from sklearn.linear_model import LogisticRegressionCV\n",
    "from sklearn.metrics import classification_report, confusion_matrix\n",
    "from yellowbrick.model_selection import LearningCurve\n",
    "from yellowbrick.classifier import ROCAUC\n",
    "import lightgbm"
   ]
  },
  {
   "cell_type": "code",
   "execution_count": 2,
   "metadata": {},
   "outputs": [],
   "source": [
    "tmdb1 = pd.read_csv('tmdb_5000_movies.csv')\n",
    "tmdb2 = pd.read_csv('tmdb_5000_credits.csv')"
   ]
  },
  {
   "cell_type": "code",
   "execution_count": 3,
   "metadata": {},
   "outputs": [
    {
     "name": "stdout",
     "output_type": "stream",
     "text": [
      "<class 'pandas.core.frame.DataFrame'>\n",
      "RangeIndex: 4803 entries, 0 to 4802\n",
      "Data columns (total 20 columns):\n",
      "budget                  4803 non-null int64\n",
      "genres                  4803 non-null object\n",
      "homepage                1712 non-null object\n",
      "id                      4803 non-null int64\n",
      "keywords                4803 non-null object\n",
      "original_language       4803 non-null object\n",
      "original_title          4803 non-null object\n",
      "overview                4800 non-null object\n",
      "popularity              4803 non-null float64\n",
      "production_companies    4803 non-null object\n",
      "production_countries    4803 non-null object\n",
      "release_date            4802 non-null object\n",
      "revenue                 4803 non-null int64\n",
      "runtime                 4801 non-null float64\n",
      "spoken_languages        4803 non-null object\n",
      "status                  4803 non-null object\n",
      "tagline                 3959 non-null object\n",
      "title                   4803 non-null object\n",
      "vote_average            4803 non-null float64\n",
      "vote_count              4803 non-null int64\n",
      "dtypes: float64(3), int64(4), object(13)\n",
      "memory usage: 750.6+ KB\n"
     ]
    }
   ],
   "source": [
    "tmdb1.info()"
   ]
  },
  {
   "cell_type": "code",
   "execution_count": 4,
   "metadata": {},
   "outputs": [
    {
     "data": {
      "text/html": [
       "<div>\n",
       "<style scoped>\n",
       "    .dataframe tbody tr th:only-of-type {\n",
       "        vertical-align: middle;\n",
       "    }\n",
       "\n",
       "    .dataframe tbody tr th {\n",
       "        vertical-align: top;\n",
       "    }\n",
       "\n",
       "    .dataframe thead th {\n",
       "        text-align: right;\n",
       "    }\n",
       "</style>\n",
       "<table border=\"1\" class=\"dataframe\">\n",
       "  <thead>\n",
       "    <tr style=\"text-align: right;\">\n",
       "      <th></th>\n",
       "      <th>budget</th>\n",
       "      <th>genres</th>\n",
       "      <th>homepage</th>\n",
       "      <th>id</th>\n",
       "      <th>keywords</th>\n",
       "      <th>original_language</th>\n",
       "      <th>original_title</th>\n",
       "      <th>overview</th>\n",
       "      <th>popularity</th>\n",
       "      <th>production_companies</th>\n",
       "      <th>production_countries</th>\n",
       "      <th>release_date</th>\n",
       "      <th>revenue</th>\n",
       "      <th>runtime</th>\n",
       "      <th>spoken_languages</th>\n",
       "      <th>status</th>\n",
       "      <th>tagline</th>\n",
       "      <th>title</th>\n",
       "      <th>vote_average</th>\n",
       "      <th>vote_count</th>\n",
       "    </tr>\n",
       "  </thead>\n",
       "  <tbody>\n",
       "    <tr>\n",
       "      <th>0</th>\n",
       "      <td>237000000</td>\n",
       "      <td>[{\"id\": 28, \"name\": \"Action\"}, {\"id\": 12, \"nam...</td>\n",
       "      <td>http://www.avatarmovie.com/</td>\n",
       "      <td>19995</td>\n",
       "      <td>[{\"id\": 1463, \"name\": \"culture clash\"}, {\"id\":...</td>\n",
       "      <td>en</td>\n",
       "      <td>Avatar</td>\n",
       "      <td>In the 22nd century, a paraplegic Marine is di...</td>\n",
       "      <td>150.437577</td>\n",
       "      <td>[{\"name\": \"Ingenious Film Partners\", \"id\": 289...</td>\n",
       "      <td>[{\"iso_3166_1\": \"US\", \"name\": \"United States o...</td>\n",
       "      <td>2009-12-10</td>\n",
       "      <td>2787965087</td>\n",
       "      <td>162.0</td>\n",
       "      <td>[{\"iso_639_1\": \"en\", \"name\": \"English\"}, {\"iso...</td>\n",
       "      <td>Released</td>\n",
       "      <td>Enter the World of Pandora.</td>\n",
       "      <td>Avatar</td>\n",
       "      <td>7.2</td>\n",
       "      <td>11800</td>\n",
       "    </tr>\n",
       "  </tbody>\n",
       "</table>\n",
       "</div>"
      ],
      "text/plain": [
       "      budget                                             genres  \\\n",
       "0  237000000  [{\"id\": 28, \"name\": \"Action\"}, {\"id\": 12, \"nam...   \n",
       "\n",
       "                      homepage     id  \\\n",
       "0  http://www.avatarmovie.com/  19995   \n",
       "\n",
       "                                            keywords original_language  \\\n",
       "0  [{\"id\": 1463, \"name\": \"culture clash\"}, {\"id\":...                en   \n",
       "\n",
       "  original_title                                           overview  \\\n",
       "0         Avatar  In the 22nd century, a paraplegic Marine is di...   \n",
       "\n",
       "   popularity                               production_companies  \\\n",
       "0  150.437577  [{\"name\": \"Ingenious Film Partners\", \"id\": 289...   \n",
       "\n",
       "                                production_countries release_date     revenue  \\\n",
       "0  [{\"iso_3166_1\": \"US\", \"name\": \"United States o...   2009-12-10  2787965087   \n",
       "\n",
       "   runtime                                   spoken_languages    status  \\\n",
       "0    162.0  [{\"iso_639_1\": \"en\", \"name\": \"English\"}, {\"iso...  Released   \n",
       "\n",
       "                       tagline   title  vote_average  vote_count  \n",
       "0  Enter the World of Pandora.  Avatar           7.2       11800  "
      ]
     },
     "execution_count": 4,
     "metadata": {},
     "output_type": "execute_result"
    }
   ],
   "source": [
    "tmdb1.head(1)"
   ]
  },
  {
   "cell_type": "code",
   "execution_count": 5,
   "metadata": {},
   "outputs": [
    {
     "name": "stdout",
     "output_type": "stream",
     "text": [
      "<class 'pandas.core.frame.DataFrame'>\n",
      "RangeIndex: 4803 entries, 0 to 4802\n",
      "Data columns (total 4 columns):\n",
      "movie_id    4803 non-null int64\n",
      "title       4803 non-null object\n",
      "cast        4803 non-null object\n",
      "crew        4803 non-null object\n",
      "dtypes: int64(1), object(3)\n",
      "memory usage: 150.2+ KB\n"
     ]
    }
   ],
   "source": [
    "tmdb2.info()"
   ]
  },
  {
   "cell_type": "code",
   "execution_count": 6,
   "metadata": {},
   "outputs": [
    {
     "data": {
      "text/html": [
       "<div>\n",
       "<style scoped>\n",
       "    .dataframe tbody tr th:only-of-type {\n",
       "        vertical-align: middle;\n",
       "    }\n",
       "\n",
       "    .dataframe tbody tr th {\n",
       "        vertical-align: top;\n",
       "    }\n",
       "\n",
       "    .dataframe thead th {\n",
       "        text-align: right;\n",
       "    }\n",
       "</style>\n",
       "<table border=\"1\" class=\"dataframe\">\n",
       "  <thead>\n",
       "    <tr style=\"text-align: right;\">\n",
       "      <th></th>\n",
       "      <th>movie_id</th>\n",
       "      <th>title</th>\n",
       "      <th>cast</th>\n",
       "      <th>crew</th>\n",
       "    </tr>\n",
       "  </thead>\n",
       "  <tbody>\n",
       "    <tr>\n",
       "      <th>0</th>\n",
       "      <td>19995</td>\n",
       "      <td>Avatar</td>\n",
       "      <td>[{\"cast_id\": 242, \"character\": \"Jake Sully\", \"...</td>\n",
       "      <td>[{\"credit_id\": \"52fe48009251416c750aca23\", \"de...</td>\n",
       "    </tr>\n",
       "  </tbody>\n",
       "</table>\n",
       "</div>"
      ],
      "text/plain": [
       "   movie_id   title                                               cast  \\\n",
       "0     19995  Avatar  [{\"cast_id\": 242, \"character\": \"Jake Sully\", \"...   \n",
       "\n",
       "                                                crew  \n",
       "0  [{\"credit_id\": \"52fe48009251416c750aca23\", \"de...  "
      ]
     },
     "execution_count": 6,
     "metadata": {},
     "output_type": "execute_result"
    }
   ],
   "source": [
    "tmdb2.head(1)"
   ]
  },
  {
   "cell_type": "code",
   "execution_count": 7,
   "metadata": {},
   "outputs": [],
   "source": [
    "tmdb1.drop(['homepage','status'],axis=1, inplace=True)\n",
    "tmdb2.drop('title', axis=1, inplace=True)"
   ]
  },
  {
   "cell_type": "code",
   "execution_count": 8,
   "metadata": {},
   "outputs": [],
   "source": [
    "tmdb = pd.merge(tmdb1, tmdb2, left_on='id', right_on='movie_id')"
   ]
  },
  {
   "cell_type": "code",
   "execution_count": 9,
   "metadata": {},
   "outputs": [
    {
     "name": "stdout",
     "output_type": "stream",
     "text": [
      "<class 'pandas.core.frame.DataFrame'>\n",
      "Int64Index: 4803 entries, 0 to 4802\n",
      "Data columns (total 21 columns):\n",
      "budget                  4803 non-null int64\n",
      "genres                  4803 non-null object\n",
      "id                      4803 non-null int64\n",
      "keywords                4803 non-null object\n",
      "original_language       4803 non-null object\n",
      "original_title          4803 non-null object\n",
      "overview                4800 non-null object\n",
      "popularity              4803 non-null float64\n",
      "production_companies    4803 non-null object\n",
      "production_countries    4803 non-null object\n",
      "release_date            4802 non-null object\n",
      "revenue                 4803 non-null int64\n",
      "runtime                 4801 non-null float64\n",
      "spoken_languages        4803 non-null object\n",
      "tagline                 3959 non-null object\n",
      "title                   4803 non-null object\n",
      "vote_average            4803 non-null float64\n",
      "vote_count              4803 non-null int64\n",
      "movie_id                4803 non-null int64\n",
      "cast                    4803 non-null object\n",
      "crew                    4803 non-null object\n",
      "dtypes: float64(3), int64(5), object(13)\n",
      "memory usage: 825.5+ KB\n"
     ]
    }
   ],
   "source": [
    "tmdb.info()"
   ]
  },
  {
   "cell_type": "code",
   "execution_count": 10,
   "metadata": {},
   "outputs": [],
   "source": [
    "tmdb.drop(['id','movie_id','original_title'],axis=1, inplace=True)"
   ]
  },
  {
   "cell_type": "code",
   "execution_count": 11,
   "metadata": {},
   "outputs": [
    {
     "data": {
      "text/html": [
       "<div>\n",
       "<style scoped>\n",
       "    .dataframe tbody tr th:only-of-type {\n",
       "        vertical-align: middle;\n",
       "    }\n",
       "\n",
       "    .dataframe tbody tr th {\n",
       "        vertical-align: top;\n",
       "    }\n",
       "\n",
       "    .dataframe thead th {\n",
       "        text-align: right;\n",
       "    }\n",
       "</style>\n",
       "<table border=\"1\" class=\"dataframe\">\n",
       "  <thead>\n",
       "    <tr style=\"text-align: right;\">\n",
       "      <th></th>\n",
       "      <th>budget</th>\n",
       "      <th>genres</th>\n",
       "      <th>keywords</th>\n",
       "      <th>original_language</th>\n",
       "      <th>overview</th>\n",
       "      <th>popularity</th>\n",
       "      <th>production_companies</th>\n",
       "      <th>production_countries</th>\n",
       "      <th>release_date</th>\n",
       "      <th>revenue</th>\n",
       "      <th>runtime</th>\n",
       "      <th>spoken_languages</th>\n",
       "      <th>tagline</th>\n",
       "      <th>title</th>\n",
       "      <th>vote_average</th>\n",
       "      <th>vote_count</th>\n",
       "      <th>cast</th>\n",
       "      <th>crew</th>\n",
       "    </tr>\n",
       "  </thead>\n",
       "  <tbody>\n",
       "    <tr>\n",
       "      <th>0</th>\n",
       "      <td>237000000</td>\n",
       "      <td>[{\"id\": 28, \"name\": \"Action\"}, {\"id\": 12, \"nam...</td>\n",
       "      <td>[{\"id\": 1463, \"name\": \"culture clash\"}, {\"id\":...</td>\n",
       "      <td>en</td>\n",
       "      <td>In the 22nd century, a paraplegic Marine is di...</td>\n",
       "      <td>150.437577</td>\n",
       "      <td>[{\"name\": \"Ingenious Film Partners\", \"id\": 289...</td>\n",
       "      <td>[{\"iso_3166_1\": \"US\", \"name\": \"United States o...</td>\n",
       "      <td>2009-12-10</td>\n",
       "      <td>2787965087</td>\n",
       "      <td>162.0</td>\n",
       "      <td>[{\"iso_639_1\": \"en\", \"name\": \"English\"}, {\"iso...</td>\n",
       "      <td>Enter the World of Pandora.</td>\n",
       "      <td>Avatar</td>\n",
       "      <td>7.2</td>\n",
       "      <td>11800</td>\n",
       "      <td>[{\"cast_id\": 242, \"character\": \"Jake Sully\", \"...</td>\n",
       "      <td>[{\"credit_id\": \"52fe48009251416c750aca23\", \"de...</td>\n",
       "    </tr>\n",
       "  </tbody>\n",
       "</table>\n",
       "</div>"
      ],
      "text/plain": [
       "      budget                                             genres  \\\n",
       "0  237000000  [{\"id\": 28, \"name\": \"Action\"}, {\"id\": 12, \"nam...   \n",
       "\n",
       "                                            keywords original_language  \\\n",
       "0  [{\"id\": 1463, \"name\": \"culture clash\"}, {\"id\":...                en   \n",
       "\n",
       "                                            overview  popularity  \\\n",
       "0  In the 22nd century, a paraplegic Marine is di...  150.437577   \n",
       "\n",
       "                                production_companies  \\\n",
       "0  [{\"name\": \"Ingenious Film Partners\", \"id\": 289...   \n",
       "\n",
       "                                production_countries release_date     revenue  \\\n",
       "0  [{\"iso_3166_1\": \"US\", \"name\": \"United States o...   2009-12-10  2787965087   \n",
       "\n",
       "   runtime                                   spoken_languages  \\\n",
       "0    162.0  [{\"iso_639_1\": \"en\", \"name\": \"English\"}, {\"iso...   \n",
       "\n",
       "                       tagline   title  vote_average  vote_count  \\\n",
       "0  Enter the World of Pandora.  Avatar           7.2       11800   \n",
       "\n",
       "                                                cast  \\\n",
       "0  [{\"cast_id\": 242, \"character\": \"Jake Sully\", \"...   \n",
       "\n",
       "                                                crew  \n",
       "0  [{\"credit_id\": \"52fe48009251416c750aca23\", \"de...  "
      ]
     },
     "execution_count": 11,
     "metadata": {},
     "output_type": "execute_result"
    }
   ],
   "source": [
    "tmdb.head(1)"
   ]
  },
  {
   "cell_type": "code",
   "execution_count": 12,
   "metadata": {},
   "outputs": [
    {
     "data": {
      "text/html": [
       "<div>\n",
       "<style scoped>\n",
       "    .dataframe tbody tr th:only-of-type {\n",
       "        vertical-align: middle;\n",
       "    }\n",
       "\n",
       "    .dataframe tbody tr th {\n",
       "        vertical-align: top;\n",
       "    }\n",
       "\n",
       "    .dataframe thead th {\n",
       "        text-align: right;\n",
       "    }\n",
       "</style>\n",
       "<table border=\"1\" class=\"dataframe\">\n",
       "  <thead>\n",
       "    <tr style=\"text-align: right;\">\n",
       "      <th></th>\n",
       "      <th>budget</th>\n",
       "      <th>genres</th>\n",
       "      <th>keywords</th>\n",
       "      <th>original_language</th>\n",
       "      <th>overview</th>\n",
       "      <th>popularity</th>\n",
       "      <th>production_companies</th>\n",
       "      <th>production_countries</th>\n",
       "      <th>release_date</th>\n",
       "      <th>revenue</th>\n",
       "      <th>runtime</th>\n",
       "      <th>spoken_languages</th>\n",
       "      <th>tagline</th>\n",
       "      <th>title</th>\n",
       "      <th>vote_average</th>\n",
       "      <th>vote_count</th>\n",
       "      <th>cast</th>\n",
       "      <th>crew</th>\n",
       "    </tr>\n",
       "  </thead>\n",
       "  <tbody>\n",
       "    <tr>\n",
       "      <th>4553</th>\n",
       "      <td>0</td>\n",
       "      <td>[]</td>\n",
       "      <td>[]</td>\n",
       "      <td>en</td>\n",
       "      <td>1971 post civil rights San Francisco seemed li...</td>\n",
       "      <td>0.0</td>\n",
       "      <td>[]</td>\n",
       "      <td>[]</td>\n",
       "      <td>NaN</td>\n",
       "      <td>0</td>\n",
       "      <td>0.0</td>\n",
       "      <td>[]</td>\n",
       "      <td>NaN</td>\n",
       "      <td>America Is Still the Place</td>\n",
       "      <td>0.0</td>\n",
       "      <td>0</td>\n",
       "      <td>[]</td>\n",
       "      <td>[]</td>\n",
       "    </tr>\n",
       "  </tbody>\n",
       "</table>\n",
       "</div>"
      ],
      "text/plain": [
       "      budget genres keywords original_language  \\\n",
       "4553       0     []       []                en   \n",
       "\n",
       "                                               overview  popularity  \\\n",
       "4553  1971 post civil rights San Francisco seemed li...         0.0   \n",
       "\n",
       "     production_companies production_countries release_date  revenue  runtime  \\\n",
       "4553                   []                   []          NaN        0      0.0   \n",
       "\n",
       "     spoken_languages tagline                       title  vote_average  \\\n",
       "4553               []     NaN  America Is Still the Place           0.0   \n",
       "\n",
       "      vote_count cast crew  \n",
       "4553           0   []   []  "
      ]
     },
     "execution_count": 12,
     "metadata": {},
     "output_type": "execute_result"
    }
   ],
   "source": [
    "tmdb[tmdb.release_date.isnull()]"
   ]
  },
  {
   "cell_type": "code",
   "execution_count": 13,
   "metadata": {},
   "outputs": [],
   "source": [
    "tmdb.drop(index=4553,inplace=True)"
   ]
  },
  {
   "cell_type": "code",
   "execution_count": 14,
   "metadata": {},
   "outputs": [
    {
     "name": "stdout",
     "output_type": "stream",
     "text": [
      "<class 'pandas.core.frame.DataFrame'>\n",
      "Int64Index: 4802 entries, 0 to 4802\n",
      "Data columns (total 18 columns):\n",
      "budget                  4802 non-null int64\n",
      "genres                  4802 non-null object\n",
      "keywords                4802 non-null object\n",
      "original_language       4802 non-null object\n",
      "overview                4799 non-null object\n",
      "popularity              4802 non-null float64\n",
      "production_companies    4802 non-null object\n",
      "production_countries    4802 non-null object\n",
      "release_date            4802 non-null object\n",
      "revenue                 4802 non-null int64\n",
      "runtime                 4800 non-null float64\n",
      "spoken_languages        4802 non-null object\n",
      "tagline                 3959 non-null object\n",
      "title                   4802 non-null object\n",
      "vote_average            4802 non-null float64\n",
      "vote_count              4802 non-null int64\n",
      "cast                    4802 non-null object\n",
      "crew                    4802 non-null object\n",
      "dtypes: float64(3), int64(3), object(12)\n",
      "memory usage: 712.8+ KB\n"
     ]
    }
   ],
   "source": [
    "tmdb.info()"
   ]
  },
  {
   "cell_type": "code",
   "execution_count": 15,
   "metadata": {},
   "outputs": [
    {
     "data": {
      "text/html": [
       "<div>\n",
       "<style scoped>\n",
       "    .dataframe tbody tr th:only-of-type {\n",
       "        vertical-align: middle;\n",
       "    }\n",
       "\n",
       "    .dataframe tbody tr th {\n",
       "        vertical-align: top;\n",
       "    }\n",
       "\n",
       "    .dataframe thead th {\n",
       "        text-align: right;\n",
       "    }\n",
       "</style>\n",
       "<table border=\"1\" class=\"dataframe\">\n",
       "  <thead>\n",
       "    <tr style=\"text-align: right;\">\n",
       "      <th></th>\n",
       "      <th>budget</th>\n",
       "      <th>genres</th>\n",
       "      <th>keywords</th>\n",
       "      <th>original_language</th>\n",
       "      <th>overview</th>\n",
       "      <th>popularity</th>\n",
       "      <th>production_companies</th>\n",
       "      <th>production_countries</th>\n",
       "      <th>release_date</th>\n",
       "      <th>revenue</th>\n",
       "      <th>runtime</th>\n",
       "      <th>spoken_languages</th>\n",
       "      <th>tagline</th>\n",
       "      <th>title</th>\n",
       "      <th>vote_average</th>\n",
       "      <th>vote_count</th>\n",
       "      <th>cast</th>\n",
       "      <th>crew</th>\n",
       "    </tr>\n",
       "  </thead>\n",
       "  <tbody>\n",
       "    <tr>\n",
       "      <th>10</th>\n",
       "      <td>270000000</td>\n",
       "      <td>[{\"id\": 12, \"name\": \"Adventure\"}, {\"id\": 14, \"...</td>\n",
       "      <td>[{\"id\": 83, \"name\": \"saving the world\"}, {\"id\"...</td>\n",
       "      <td>en</td>\n",
       "      <td>Superman returns to discover his 5-year absenc...</td>\n",
       "      <td>57.925623</td>\n",
       "      <td>[{\"name\": \"DC Comics\", \"id\": 429}, {\"name\": \"L...</td>\n",
       "      <td>[{\"iso_3166_1\": \"US\", \"name\": \"United States o...</td>\n",
       "      <td>2006-06-28</td>\n",
       "      <td>391081192</td>\n",
       "      <td>154.0</td>\n",
       "      <td>[{\"iso_639_1\": \"en\", \"name\": \"English\"}, {\"iso...</td>\n",
       "      <td>NaN</td>\n",
       "      <td>Superman Returns</td>\n",
       "      <td>5.4</td>\n",
       "      <td>1400</td>\n",
       "      <td>[{\"cast_id\": 3, \"character\": \"Superman / Clark...</td>\n",
       "      <td>[{\"credit_id\": \"553bef6a9251416874003c8f\", \"de...</td>\n",
       "    </tr>\n",
       "    <tr>\n",
       "      <th>56</th>\n",
       "      <td>185000000</td>\n",
       "      <td>[{\"id\": 28, \"name\": \"Action\"}, {\"id\": 12, \"nam...</td>\n",
       "      <td>[{\"id\": 9663, \"name\": \"sequel\"}, {\"id\": 9743, ...</td>\n",
       "      <td>en</td>\n",
       "      <td>The USS Enterprise crew explores the furthest ...</td>\n",
       "      <td>65.352913</td>\n",
       "      <td>[{\"name\": \"Paramount Pictures\", \"id\": 4}, {\"na...</td>\n",
       "      <td>[{\"iso_3166_1\": \"US\", \"name\": \"United States o...</td>\n",
       "      <td>2016-07-07</td>\n",
       "      <td>343471816</td>\n",
       "      <td>122.0</td>\n",
       "      <td>[{\"iso_639_1\": \"en\", \"name\": \"English\"}]</td>\n",
       "      <td>NaN</td>\n",
       "      <td>Star Trek Beyond</td>\n",
       "      <td>6.6</td>\n",
       "      <td>2568</td>\n",
       "      <td>[{\"cast_id\": 9, \"character\": \"James T. Kirk\", ...</td>\n",
       "      <td>[{\"credit_id\": \"52fe4d489251416c751360bb\", \"de...</td>\n",
       "    </tr>\n",
       "    <tr>\n",
       "      <th>66</th>\n",
       "      <td>175000000</td>\n",
       "      <td>[{\"id\": 16, \"name\": \"Animation\"}, {\"id\": 35, \"...</td>\n",
       "      <td>[{\"id\": 965, \"name\": \"age difference\"}, {\"id\":...</td>\n",
       "      <td>en</td>\n",
       "      <td>Carl Fredricksen spent his entire life dreamin...</td>\n",
       "      <td>92.201962</td>\n",
       "      <td>[{\"name\": \"Pixar Animation Studios\", \"id\": 3}]</td>\n",
       "      <td>[{\"iso_3166_1\": \"US\", \"name\": \"United States o...</td>\n",
       "      <td>2009-05-13</td>\n",
       "      <td>735099082</td>\n",
       "      <td>96.0</td>\n",
       "      <td>[{\"iso_639_1\": \"en\", \"name\": \"English\"}]</td>\n",
       "      <td>NaN</td>\n",
       "      <td>Up</td>\n",
       "      <td>7.7</td>\n",
       "      <td>6870</td>\n",
       "      <td>[{\"cast_id\": 4, \"character\": \"Carl Fredricksen...</td>\n",
       "      <td>[{\"credit_id\": \"5683b5f8c3a3684be90168e1\", \"de...</td>\n",
       "    </tr>\n",
       "    <tr>\n",
       "      <th>78</th>\n",
       "      <td>175000000</td>\n",
       "      <td>[{\"id\": 10751, \"name\": \"Family\"}, {\"id\": 12, \"...</td>\n",
       "      <td>[{\"id\": 818, \"name\": \"based on novel\"}, {\"id\":...</td>\n",
       "      <td>en</td>\n",
       "      <td>After a threat from the tiger Shere Khan force...</td>\n",
       "      <td>94.199316</td>\n",
       "      <td>[{\"name\": \"Walt Disney Pictures\", \"id\": 2}, {\"...</td>\n",
       "      <td>[{\"iso_3166_1\": \"GB\", \"name\": \"United Kingdom\"...</td>\n",
       "      <td>2016-04-07</td>\n",
       "      <td>966550600</td>\n",
       "      <td>106.0</td>\n",
       "      <td>[{\"iso_639_1\": \"en\", \"name\": \"English\"}]</td>\n",
       "      <td>NaN</td>\n",
       "      <td>The Jungle Book</td>\n",
       "      <td>6.7</td>\n",
       "      <td>2892</td>\n",
       "      <td>[{\"cast_id\": 12, \"character\": \"Mowgli\", \"credi...</td>\n",
       "      <td>[{\"credit_id\": \"571507b692514105a80032f0\", \"de...</td>\n",
       "    </tr>\n",
       "    <tr>\n",
       "      <th>128</th>\n",
       "      <td>150000000</td>\n",
       "      <td>[{\"id\": 53, \"name\": \"Thriller\"}, {\"id\": 9648, ...</td>\n",
       "      <td>[{\"id\": 588, \"name\": \"rome\"}, {\"id\": 716, \"nam...</td>\n",
       "      <td>en</td>\n",
       "      <td>Harvard symbologist Robert Langdon investigate...</td>\n",
       "      <td>67.447636</td>\n",
       "      <td>[{\"name\": \"Columbia Pictures\", \"id\": 5}, {\"nam...</td>\n",
       "      <td>[{\"iso_3166_1\": \"IT\", \"name\": \"Italy\"}, {\"iso_...</td>\n",
       "      <td>2009-05-13</td>\n",
       "      <td>356613439</td>\n",
       "      <td>138.0</td>\n",
       "      <td>[{\"iso_639_1\": \"en\", \"name\": \"English\"}, {\"iso...</td>\n",
       "      <td>NaN</td>\n",
       "      <td>Angels &amp; Demons</td>\n",
       "      <td>6.5</td>\n",
       "      <td>2129</td>\n",
       "      <td>[{\"cast_id\": 4, \"character\": \"Robert Langdon\",...</td>\n",
       "      <td>[{\"credit_id\": \"52fe456a9251416c750559ef\", \"de...</td>\n",
       "    </tr>\n",
       "  </tbody>\n",
       "</table>\n",
       "</div>"
      ],
      "text/plain": [
       "        budget                                             genres  \\\n",
       "10   270000000  [{\"id\": 12, \"name\": \"Adventure\"}, {\"id\": 14, \"...   \n",
       "56   185000000  [{\"id\": 28, \"name\": \"Action\"}, {\"id\": 12, \"nam...   \n",
       "66   175000000  [{\"id\": 16, \"name\": \"Animation\"}, {\"id\": 35, \"...   \n",
       "78   175000000  [{\"id\": 10751, \"name\": \"Family\"}, {\"id\": 12, \"...   \n",
       "128  150000000  [{\"id\": 53, \"name\": \"Thriller\"}, {\"id\": 9648, ...   \n",
       "\n",
       "                                              keywords original_language  \\\n",
       "10   [{\"id\": 83, \"name\": \"saving the world\"}, {\"id\"...                en   \n",
       "56   [{\"id\": 9663, \"name\": \"sequel\"}, {\"id\": 9743, ...                en   \n",
       "66   [{\"id\": 965, \"name\": \"age difference\"}, {\"id\":...                en   \n",
       "78   [{\"id\": 818, \"name\": \"based on novel\"}, {\"id\":...                en   \n",
       "128  [{\"id\": 588, \"name\": \"rome\"}, {\"id\": 716, \"nam...                en   \n",
       "\n",
       "                                              overview  popularity  \\\n",
       "10   Superman returns to discover his 5-year absenc...   57.925623   \n",
       "56   The USS Enterprise crew explores the furthest ...   65.352913   \n",
       "66   Carl Fredricksen spent his entire life dreamin...   92.201962   \n",
       "78   After a threat from the tiger Shere Khan force...   94.199316   \n",
       "128  Harvard symbologist Robert Langdon investigate...   67.447636   \n",
       "\n",
       "                                  production_companies  \\\n",
       "10   [{\"name\": \"DC Comics\", \"id\": 429}, {\"name\": \"L...   \n",
       "56   [{\"name\": \"Paramount Pictures\", \"id\": 4}, {\"na...   \n",
       "66      [{\"name\": \"Pixar Animation Studios\", \"id\": 3}]   \n",
       "78   [{\"name\": \"Walt Disney Pictures\", \"id\": 2}, {\"...   \n",
       "128  [{\"name\": \"Columbia Pictures\", \"id\": 5}, {\"nam...   \n",
       "\n",
       "                                  production_countries release_date  \\\n",
       "10   [{\"iso_3166_1\": \"US\", \"name\": \"United States o...   2006-06-28   \n",
       "56   [{\"iso_3166_1\": \"US\", \"name\": \"United States o...   2016-07-07   \n",
       "66   [{\"iso_3166_1\": \"US\", \"name\": \"United States o...   2009-05-13   \n",
       "78   [{\"iso_3166_1\": \"GB\", \"name\": \"United Kingdom\"...   2016-04-07   \n",
       "128  [{\"iso_3166_1\": \"IT\", \"name\": \"Italy\"}, {\"iso_...   2009-05-13   \n",
       "\n",
       "       revenue  runtime                                   spoken_languages  \\\n",
       "10   391081192    154.0  [{\"iso_639_1\": \"en\", \"name\": \"English\"}, {\"iso...   \n",
       "56   343471816    122.0           [{\"iso_639_1\": \"en\", \"name\": \"English\"}]   \n",
       "66   735099082     96.0           [{\"iso_639_1\": \"en\", \"name\": \"English\"}]   \n",
       "78   966550600    106.0           [{\"iso_639_1\": \"en\", \"name\": \"English\"}]   \n",
       "128  356613439    138.0  [{\"iso_639_1\": \"en\", \"name\": \"English\"}, {\"iso...   \n",
       "\n",
       "    tagline             title  vote_average  vote_count  \\\n",
       "10      NaN  Superman Returns           5.4        1400   \n",
       "56      NaN  Star Trek Beyond           6.6        2568   \n",
       "66      NaN                Up           7.7        6870   \n",
       "78      NaN   The Jungle Book           6.7        2892   \n",
       "128     NaN   Angels & Demons           6.5        2129   \n",
       "\n",
       "                                                  cast  \\\n",
       "10   [{\"cast_id\": 3, \"character\": \"Superman / Clark...   \n",
       "56   [{\"cast_id\": 9, \"character\": \"James T. Kirk\", ...   \n",
       "66   [{\"cast_id\": 4, \"character\": \"Carl Fredricksen...   \n",
       "78   [{\"cast_id\": 12, \"character\": \"Mowgli\", \"credi...   \n",
       "128  [{\"cast_id\": 4, \"character\": \"Robert Langdon\",...   \n",
       "\n",
       "                                                  crew  \n",
       "10   [{\"credit_id\": \"553bef6a9251416874003c8f\", \"de...  \n",
       "56   [{\"credit_id\": \"52fe4d489251416c751360bb\", \"de...  \n",
       "66   [{\"credit_id\": \"5683b5f8c3a3684be90168e1\", \"de...  \n",
       "78   [{\"credit_id\": \"571507b692514105a80032f0\", \"de...  \n",
       "128  [{\"credit_id\": \"52fe456a9251416c750559ef\", \"de...  "
      ]
     },
     "execution_count": 15,
     "metadata": {},
     "output_type": "execute_result"
    }
   ],
   "source": [
    "tmdb[tmdb.tagline.isnull()].head()"
   ]
  },
  {
   "cell_type": "code",
   "execution_count": 16,
   "metadata": {},
   "outputs": [],
   "source": [
    "tmdb.loc[tmdb.tagline.isnull(), 'tagline'] = 'NA'"
   ]
  },
  {
   "cell_type": "code",
   "execution_count": 17,
   "metadata": {},
   "outputs": [
    {
     "data": {
      "text/html": [
       "<div>\n",
       "<style scoped>\n",
       "    .dataframe tbody tr th:only-of-type {\n",
       "        vertical-align: middle;\n",
       "    }\n",
       "\n",
       "    .dataframe tbody tr th {\n",
       "        vertical-align: top;\n",
       "    }\n",
       "\n",
       "    .dataframe thead th {\n",
       "        text-align: right;\n",
       "    }\n",
       "</style>\n",
       "<table border=\"1\" class=\"dataframe\">\n",
       "  <thead>\n",
       "    <tr style=\"text-align: right;\">\n",
       "      <th></th>\n",
       "      <th>budget</th>\n",
       "      <th>genres</th>\n",
       "      <th>keywords</th>\n",
       "      <th>original_language</th>\n",
       "      <th>overview</th>\n",
       "      <th>popularity</th>\n",
       "      <th>production_companies</th>\n",
       "      <th>production_countries</th>\n",
       "      <th>release_date</th>\n",
       "      <th>revenue</th>\n",
       "      <th>runtime</th>\n",
       "      <th>spoken_languages</th>\n",
       "      <th>tagline</th>\n",
       "      <th>title</th>\n",
       "      <th>vote_average</th>\n",
       "      <th>vote_count</th>\n",
       "      <th>cast</th>\n",
       "      <th>crew</th>\n",
       "    </tr>\n",
       "  </thead>\n",
       "  <tbody>\n",
       "    <tr>\n",
       "      <th>10</th>\n",
       "      <td>270000000</td>\n",
       "      <td>[{\"id\": 12, \"name\": \"Adventure\"}, {\"id\": 14, \"...</td>\n",
       "      <td>[{\"id\": 83, \"name\": \"saving the world\"}, {\"id\"...</td>\n",
       "      <td>en</td>\n",
       "      <td>Superman returns to discover his 5-year absenc...</td>\n",
       "      <td>57.925623</td>\n",
       "      <td>[{\"name\": \"DC Comics\", \"id\": 429}, {\"name\": \"L...</td>\n",
       "      <td>[{\"iso_3166_1\": \"US\", \"name\": \"United States o...</td>\n",
       "      <td>2006-06-28</td>\n",
       "      <td>391081192</td>\n",
       "      <td>154.0</td>\n",
       "      <td>[{\"iso_639_1\": \"en\", \"name\": \"English\"}, {\"iso...</td>\n",
       "      <td>NA</td>\n",
       "      <td>Superman Returns</td>\n",
       "      <td>5.4</td>\n",
       "      <td>1400</td>\n",
       "      <td>[{\"cast_id\": 3, \"character\": \"Superman / Clark...</td>\n",
       "      <td>[{\"credit_id\": \"553bef6a9251416874003c8f\", \"de...</td>\n",
       "    </tr>\n",
       "    <tr>\n",
       "      <th>56</th>\n",
       "      <td>185000000</td>\n",
       "      <td>[{\"id\": 28, \"name\": \"Action\"}, {\"id\": 12, \"nam...</td>\n",
       "      <td>[{\"id\": 9663, \"name\": \"sequel\"}, {\"id\": 9743, ...</td>\n",
       "      <td>en</td>\n",
       "      <td>The USS Enterprise crew explores the furthest ...</td>\n",
       "      <td>65.352913</td>\n",
       "      <td>[{\"name\": \"Paramount Pictures\", \"id\": 4}, {\"na...</td>\n",
       "      <td>[{\"iso_3166_1\": \"US\", \"name\": \"United States o...</td>\n",
       "      <td>2016-07-07</td>\n",
       "      <td>343471816</td>\n",
       "      <td>122.0</td>\n",
       "      <td>[{\"iso_639_1\": \"en\", \"name\": \"English\"}]</td>\n",
       "      <td>NA</td>\n",
       "      <td>Star Trek Beyond</td>\n",
       "      <td>6.6</td>\n",
       "      <td>2568</td>\n",
       "      <td>[{\"cast_id\": 9, \"character\": \"James T. Kirk\", ...</td>\n",
       "      <td>[{\"credit_id\": \"52fe4d489251416c751360bb\", \"de...</td>\n",
       "    </tr>\n",
       "    <tr>\n",
       "      <th>66</th>\n",
       "      <td>175000000</td>\n",
       "      <td>[{\"id\": 16, \"name\": \"Animation\"}, {\"id\": 35, \"...</td>\n",
       "      <td>[{\"id\": 965, \"name\": \"age difference\"}, {\"id\":...</td>\n",
       "      <td>en</td>\n",
       "      <td>Carl Fredricksen spent his entire life dreamin...</td>\n",
       "      <td>92.201962</td>\n",
       "      <td>[{\"name\": \"Pixar Animation Studios\", \"id\": 3}]</td>\n",
       "      <td>[{\"iso_3166_1\": \"US\", \"name\": \"United States o...</td>\n",
       "      <td>2009-05-13</td>\n",
       "      <td>735099082</td>\n",
       "      <td>96.0</td>\n",
       "      <td>[{\"iso_639_1\": \"en\", \"name\": \"English\"}]</td>\n",
       "      <td>NA</td>\n",
       "      <td>Up</td>\n",
       "      <td>7.7</td>\n",
       "      <td>6870</td>\n",
       "      <td>[{\"cast_id\": 4, \"character\": \"Carl Fredricksen...</td>\n",
       "      <td>[{\"credit_id\": \"5683b5f8c3a3684be90168e1\", \"de...</td>\n",
       "    </tr>\n",
       "    <tr>\n",
       "      <th>78</th>\n",
       "      <td>175000000</td>\n",
       "      <td>[{\"id\": 10751, \"name\": \"Family\"}, {\"id\": 12, \"...</td>\n",
       "      <td>[{\"id\": 818, \"name\": \"based on novel\"}, {\"id\":...</td>\n",
       "      <td>en</td>\n",
       "      <td>After a threat from the tiger Shere Khan force...</td>\n",
       "      <td>94.199316</td>\n",
       "      <td>[{\"name\": \"Walt Disney Pictures\", \"id\": 2}, {\"...</td>\n",
       "      <td>[{\"iso_3166_1\": \"GB\", \"name\": \"United Kingdom\"...</td>\n",
       "      <td>2016-04-07</td>\n",
       "      <td>966550600</td>\n",
       "      <td>106.0</td>\n",
       "      <td>[{\"iso_639_1\": \"en\", \"name\": \"English\"}]</td>\n",
       "      <td>NA</td>\n",
       "      <td>The Jungle Book</td>\n",
       "      <td>6.7</td>\n",
       "      <td>2892</td>\n",
       "      <td>[{\"cast_id\": 12, \"character\": \"Mowgli\", \"credi...</td>\n",
       "      <td>[{\"credit_id\": \"571507b692514105a80032f0\", \"de...</td>\n",
       "    </tr>\n",
       "    <tr>\n",
       "      <th>128</th>\n",
       "      <td>150000000</td>\n",
       "      <td>[{\"id\": 53, \"name\": \"Thriller\"}, {\"id\": 9648, ...</td>\n",
       "      <td>[{\"id\": 588, \"name\": \"rome\"}, {\"id\": 716, \"nam...</td>\n",
       "      <td>en</td>\n",
       "      <td>Harvard symbologist Robert Langdon investigate...</td>\n",
       "      <td>67.447636</td>\n",
       "      <td>[{\"name\": \"Columbia Pictures\", \"id\": 5}, {\"nam...</td>\n",
       "      <td>[{\"iso_3166_1\": \"IT\", \"name\": \"Italy\"}, {\"iso_...</td>\n",
       "      <td>2009-05-13</td>\n",
       "      <td>356613439</td>\n",
       "      <td>138.0</td>\n",
       "      <td>[{\"iso_639_1\": \"en\", \"name\": \"English\"}, {\"iso...</td>\n",
       "      <td>NA</td>\n",
       "      <td>Angels &amp; Demons</td>\n",
       "      <td>6.5</td>\n",
       "      <td>2129</td>\n",
       "      <td>[{\"cast_id\": 4, \"character\": \"Robert Langdon\",...</td>\n",
       "      <td>[{\"credit_id\": \"52fe456a9251416c750559ef\", \"de...</td>\n",
       "    </tr>\n",
       "  </tbody>\n",
       "</table>\n",
       "</div>"
      ],
      "text/plain": [
       "        budget                                             genres  \\\n",
       "10   270000000  [{\"id\": 12, \"name\": \"Adventure\"}, {\"id\": 14, \"...   \n",
       "56   185000000  [{\"id\": 28, \"name\": \"Action\"}, {\"id\": 12, \"nam...   \n",
       "66   175000000  [{\"id\": 16, \"name\": \"Animation\"}, {\"id\": 35, \"...   \n",
       "78   175000000  [{\"id\": 10751, \"name\": \"Family\"}, {\"id\": 12, \"...   \n",
       "128  150000000  [{\"id\": 53, \"name\": \"Thriller\"}, {\"id\": 9648, ...   \n",
       "\n",
       "                                              keywords original_language  \\\n",
       "10   [{\"id\": 83, \"name\": \"saving the world\"}, {\"id\"...                en   \n",
       "56   [{\"id\": 9663, \"name\": \"sequel\"}, {\"id\": 9743, ...                en   \n",
       "66   [{\"id\": 965, \"name\": \"age difference\"}, {\"id\":...                en   \n",
       "78   [{\"id\": 818, \"name\": \"based on novel\"}, {\"id\":...                en   \n",
       "128  [{\"id\": 588, \"name\": \"rome\"}, {\"id\": 716, \"nam...                en   \n",
       "\n",
       "                                              overview  popularity  \\\n",
       "10   Superman returns to discover his 5-year absenc...   57.925623   \n",
       "56   The USS Enterprise crew explores the furthest ...   65.352913   \n",
       "66   Carl Fredricksen spent his entire life dreamin...   92.201962   \n",
       "78   After a threat from the tiger Shere Khan force...   94.199316   \n",
       "128  Harvard symbologist Robert Langdon investigate...   67.447636   \n",
       "\n",
       "                                  production_companies  \\\n",
       "10   [{\"name\": \"DC Comics\", \"id\": 429}, {\"name\": \"L...   \n",
       "56   [{\"name\": \"Paramount Pictures\", \"id\": 4}, {\"na...   \n",
       "66      [{\"name\": \"Pixar Animation Studios\", \"id\": 3}]   \n",
       "78   [{\"name\": \"Walt Disney Pictures\", \"id\": 2}, {\"...   \n",
       "128  [{\"name\": \"Columbia Pictures\", \"id\": 5}, {\"nam...   \n",
       "\n",
       "                                  production_countries release_date  \\\n",
       "10   [{\"iso_3166_1\": \"US\", \"name\": \"United States o...   2006-06-28   \n",
       "56   [{\"iso_3166_1\": \"US\", \"name\": \"United States o...   2016-07-07   \n",
       "66   [{\"iso_3166_1\": \"US\", \"name\": \"United States o...   2009-05-13   \n",
       "78   [{\"iso_3166_1\": \"GB\", \"name\": \"United Kingdom\"...   2016-04-07   \n",
       "128  [{\"iso_3166_1\": \"IT\", \"name\": \"Italy\"}, {\"iso_...   2009-05-13   \n",
       "\n",
       "       revenue  runtime                                   spoken_languages  \\\n",
       "10   391081192    154.0  [{\"iso_639_1\": \"en\", \"name\": \"English\"}, {\"iso...   \n",
       "56   343471816    122.0           [{\"iso_639_1\": \"en\", \"name\": \"English\"}]   \n",
       "66   735099082     96.0           [{\"iso_639_1\": \"en\", \"name\": \"English\"}]   \n",
       "78   966550600    106.0           [{\"iso_639_1\": \"en\", \"name\": \"English\"}]   \n",
       "128  356613439    138.0  [{\"iso_639_1\": \"en\", \"name\": \"English\"}, {\"iso...   \n",
       "\n",
       "    tagline             title  vote_average  vote_count  \\\n",
       "10       NA  Superman Returns           5.4        1400   \n",
       "56       NA  Star Trek Beyond           6.6        2568   \n",
       "66       NA                Up           7.7        6870   \n",
       "78       NA   The Jungle Book           6.7        2892   \n",
       "128      NA   Angels & Demons           6.5        2129   \n",
       "\n",
       "                                                  cast  \\\n",
       "10   [{\"cast_id\": 3, \"character\": \"Superman / Clark...   \n",
       "56   [{\"cast_id\": 9, \"character\": \"James T. Kirk\", ...   \n",
       "66   [{\"cast_id\": 4, \"character\": \"Carl Fredricksen...   \n",
       "78   [{\"cast_id\": 12, \"character\": \"Mowgli\", \"credi...   \n",
       "128  [{\"cast_id\": 4, \"character\": \"Robert Langdon\",...   \n",
       "\n",
       "                                                  crew  \n",
       "10   [{\"credit_id\": \"553bef6a9251416874003c8f\", \"de...  \n",
       "56   [{\"credit_id\": \"52fe4d489251416c751360bb\", \"de...  \n",
       "66   [{\"credit_id\": \"5683b5f8c3a3684be90168e1\", \"de...  \n",
       "78   [{\"credit_id\": \"571507b692514105a80032f0\", \"de...  \n",
       "128  [{\"credit_id\": \"52fe456a9251416c750559ef\", \"de...  "
      ]
     },
     "execution_count": 17,
     "metadata": {},
     "output_type": "execute_result"
    }
   ],
   "source": [
    "tmdb[tmdb.tagline == 'NA'].head()"
   ]
  },
  {
   "cell_type": "code",
   "execution_count": 18,
   "metadata": {},
   "outputs": [
    {
     "name": "stdout",
     "output_type": "stream",
     "text": [
      "<class 'pandas.core.frame.DataFrame'>\n",
      "Int64Index: 4802 entries, 0 to 4802\n",
      "Data columns (total 18 columns):\n",
      "budget                  4802 non-null int64\n",
      "genres                  4802 non-null object\n",
      "keywords                4802 non-null object\n",
      "original_language       4802 non-null object\n",
      "overview                4799 non-null object\n",
      "popularity              4802 non-null float64\n",
      "production_companies    4802 non-null object\n",
      "production_countries    4802 non-null object\n",
      "release_date            4802 non-null object\n",
      "revenue                 4802 non-null int64\n",
      "runtime                 4800 non-null float64\n",
      "spoken_languages        4802 non-null object\n",
      "tagline                 4802 non-null object\n",
      "title                   4802 non-null object\n",
      "vote_average            4802 non-null float64\n",
      "vote_count              4802 non-null int64\n",
      "cast                    4802 non-null object\n",
      "crew                    4802 non-null object\n",
      "dtypes: float64(3), int64(3), object(12)\n",
      "memory usage: 712.8+ KB\n"
     ]
    }
   ],
   "source": [
    "tmdb.info()"
   ]
  },
  {
   "cell_type": "code",
   "execution_count": 19,
   "metadata": {},
   "outputs": [
    {
     "data": {
      "text/html": [
       "<div>\n",
       "<style scoped>\n",
       "    .dataframe tbody tr th:only-of-type {\n",
       "        vertical-align: middle;\n",
       "    }\n",
       "\n",
       "    .dataframe tbody tr th {\n",
       "        vertical-align: top;\n",
       "    }\n",
       "\n",
       "    .dataframe thead th {\n",
       "        text-align: right;\n",
       "    }\n",
       "</style>\n",
       "<table border=\"1\" class=\"dataframe\">\n",
       "  <thead>\n",
       "    <tr style=\"text-align: right;\">\n",
       "      <th></th>\n",
       "      <th>budget</th>\n",
       "      <th>genres</th>\n",
       "      <th>keywords</th>\n",
       "      <th>original_language</th>\n",
       "      <th>overview</th>\n",
       "      <th>popularity</th>\n",
       "      <th>production_companies</th>\n",
       "      <th>production_countries</th>\n",
       "      <th>release_date</th>\n",
       "      <th>revenue</th>\n",
       "      <th>runtime</th>\n",
       "      <th>spoken_languages</th>\n",
       "      <th>tagline</th>\n",
       "      <th>title</th>\n",
       "      <th>vote_average</th>\n",
       "      <th>vote_count</th>\n",
       "      <th>cast</th>\n",
       "      <th>crew</th>\n",
       "    </tr>\n",
       "  </thead>\n",
       "  <tbody>\n",
       "    <tr>\n",
       "      <th>2656</th>\n",
       "      <td>15000000</td>\n",
       "      <td>[{\"id\": 18, \"name\": \"Drama\"}]</td>\n",
       "      <td>[{\"id\": 717, \"name\": \"pope\"}, {\"id\": 5565, \"na...</td>\n",
       "      <td>it</td>\n",
       "      <td>NaN</td>\n",
       "      <td>0.738646</td>\n",
       "      <td>[{\"name\": \"Taodue Film\", \"id\": 45724}]</td>\n",
       "      <td>[{\"iso_3166_1\": \"IT\", \"name\": \"Italy\"}]</td>\n",
       "      <td>2015-12-03</td>\n",
       "      <td>0</td>\n",
       "      <td>NaN</td>\n",
       "      <td>[{\"iso_639_1\": \"es\", \"name\": \"Espa\\u00f1ol\"}]</td>\n",
       "      <td>NA</td>\n",
       "      <td>Chiamatemi Francesco - Il Papa della gente</td>\n",
       "      <td>7.3</td>\n",
       "      <td>12</td>\n",
       "      <td>[{\"cast_id\": 5, \"character\": \"Jorge Mario Berg...</td>\n",
       "      <td>[{\"credit_id\": \"5660019ac3a36875f100252b\", \"de...</td>\n",
       "    </tr>\n",
       "    <tr>\n",
       "      <th>4140</th>\n",
       "      <td>2</td>\n",
       "      <td>[{\"id\": 99, \"name\": \"Documentary\"}]</td>\n",
       "      <td>[{\"id\": 6027, \"name\": \"music\"}, {\"id\": 225822,...</td>\n",
       "      <td>en</td>\n",
       "      <td>NaN</td>\n",
       "      <td>0.050625</td>\n",
       "      <td>[{\"name\": \"Eyeline Entertainment\", \"id\": 60343}]</td>\n",
       "      <td>[{\"iso_3166_1\": \"GB\", \"name\": \"United Kingdom\"}]</td>\n",
       "      <td>2015-12-12</td>\n",
       "      <td>0</td>\n",
       "      <td>NaN</td>\n",
       "      <td>[]</td>\n",
       "      <td>NA</td>\n",
       "      <td>To Be Frank, Sinatra at 100</td>\n",
       "      <td>0.0</td>\n",
       "      <td>0</td>\n",
       "      <td>[{\"cast_id\": 0, \"character\": \"Narrator\", \"cred...</td>\n",
       "      <td>[{\"credit_id\": \"592b25e4c3a368783e065a2f\", \"de...</td>\n",
       "    </tr>\n",
       "    <tr>\n",
       "      <th>4431</th>\n",
       "      <td>913000</td>\n",
       "      <td>[{\"id\": 99, \"name\": \"Documentary\"}]</td>\n",
       "      <td>[]</td>\n",
       "      <td>de</td>\n",
       "      <td>NaN</td>\n",
       "      <td>0.795698</td>\n",
       "      <td>[]</td>\n",
       "      <td>[]</td>\n",
       "      <td>2014-04-26</td>\n",
       "      <td>0</td>\n",
       "      <td>83.0</td>\n",
       "      <td>[{\"iso_639_1\": \"en\", \"name\": \"English\"}]</td>\n",
       "      <td>NA</td>\n",
       "      <td>Food Chains</td>\n",
       "      <td>7.4</td>\n",
       "      <td>8</td>\n",
       "      <td>[]</td>\n",
       "      <td>[{\"credit_id\": \"5470c3b1c3a368085e000abd\", \"de...</td>\n",
       "    </tr>\n",
       "  </tbody>\n",
       "</table>\n",
       "</div>"
      ],
      "text/plain": [
       "        budget                               genres  \\\n",
       "2656  15000000        [{\"id\": 18, \"name\": \"Drama\"}]   \n",
       "4140         2  [{\"id\": 99, \"name\": \"Documentary\"}]   \n",
       "4431    913000  [{\"id\": 99, \"name\": \"Documentary\"}]   \n",
       "\n",
       "                                               keywords original_language  \\\n",
       "2656  [{\"id\": 717, \"name\": \"pope\"}, {\"id\": 5565, \"na...                it   \n",
       "4140  [{\"id\": 6027, \"name\": \"music\"}, {\"id\": 225822,...                en   \n",
       "4431                                                 []                de   \n",
       "\n",
       "     overview  popularity                              production_companies  \\\n",
       "2656      NaN    0.738646            [{\"name\": \"Taodue Film\", \"id\": 45724}]   \n",
       "4140      NaN    0.050625  [{\"name\": \"Eyeline Entertainment\", \"id\": 60343}]   \n",
       "4431      NaN    0.795698                                                []   \n",
       "\n",
       "                                  production_countries release_date  revenue  \\\n",
       "2656           [{\"iso_3166_1\": \"IT\", \"name\": \"Italy\"}]   2015-12-03        0   \n",
       "4140  [{\"iso_3166_1\": \"GB\", \"name\": \"United Kingdom\"}]   2015-12-12        0   \n",
       "4431                                                []   2014-04-26        0   \n",
       "\n",
       "      runtime                               spoken_languages tagline  \\\n",
       "2656      NaN  [{\"iso_639_1\": \"es\", \"name\": \"Espa\\u00f1ol\"}]      NA   \n",
       "4140      NaN                                             []      NA   \n",
       "4431     83.0       [{\"iso_639_1\": \"en\", \"name\": \"English\"}]      NA   \n",
       "\n",
       "                                           title  vote_average  vote_count  \\\n",
       "2656  Chiamatemi Francesco - Il Papa della gente           7.3          12   \n",
       "4140                 To Be Frank, Sinatra at 100           0.0           0   \n",
       "4431                                 Food Chains           7.4           8   \n",
       "\n",
       "                                                   cast  \\\n",
       "2656  [{\"cast_id\": 5, \"character\": \"Jorge Mario Berg...   \n",
       "4140  [{\"cast_id\": 0, \"character\": \"Narrator\", \"cred...   \n",
       "4431                                                 []   \n",
       "\n",
       "                                                   crew  \n",
       "2656  [{\"credit_id\": \"5660019ac3a36875f100252b\", \"de...  \n",
       "4140  [{\"credit_id\": \"592b25e4c3a368783e065a2f\", \"de...  \n",
       "4431  [{\"credit_id\": \"5470c3b1c3a368085e000abd\", \"de...  "
      ]
     },
     "execution_count": 19,
     "metadata": {},
     "output_type": "execute_result"
    }
   ],
   "source": [
    "tmdb[tmdb.overview.isnull()] "
   ]
  },
  {
   "cell_type": "code",
   "execution_count": 20,
   "metadata": {},
   "outputs": [],
   "source": [
    "tmdb.loc[tmdb.overview.isnull(), 'overview'] = 'NA'"
   ]
  },
  {
   "cell_type": "code",
   "execution_count": 21,
   "metadata": {},
   "outputs": [
    {
     "data": {
      "text/html": [
       "<div>\n",
       "<style scoped>\n",
       "    .dataframe tbody tr th:only-of-type {\n",
       "        vertical-align: middle;\n",
       "    }\n",
       "\n",
       "    .dataframe tbody tr th {\n",
       "        vertical-align: top;\n",
       "    }\n",
       "\n",
       "    .dataframe thead th {\n",
       "        text-align: right;\n",
       "    }\n",
       "</style>\n",
       "<table border=\"1\" class=\"dataframe\">\n",
       "  <thead>\n",
       "    <tr style=\"text-align: right;\">\n",
       "      <th></th>\n",
       "      <th>budget</th>\n",
       "      <th>genres</th>\n",
       "      <th>keywords</th>\n",
       "      <th>original_language</th>\n",
       "      <th>overview</th>\n",
       "      <th>popularity</th>\n",
       "      <th>production_companies</th>\n",
       "      <th>production_countries</th>\n",
       "      <th>release_date</th>\n",
       "      <th>revenue</th>\n",
       "      <th>runtime</th>\n",
       "      <th>spoken_languages</th>\n",
       "      <th>tagline</th>\n",
       "      <th>title</th>\n",
       "      <th>vote_average</th>\n",
       "      <th>vote_count</th>\n",
       "      <th>cast</th>\n",
       "      <th>crew</th>\n",
       "    </tr>\n",
       "  </thead>\n",
       "  <tbody>\n",
       "    <tr>\n",
       "      <th>2656</th>\n",
       "      <td>15000000</td>\n",
       "      <td>[{\"id\": 18, \"name\": \"Drama\"}]</td>\n",
       "      <td>[{\"id\": 717, \"name\": \"pope\"}, {\"id\": 5565, \"na...</td>\n",
       "      <td>it</td>\n",
       "      <td>NA</td>\n",
       "      <td>0.738646</td>\n",
       "      <td>[{\"name\": \"Taodue Film\", \"id\": 45724}]</td>\n",
       "      <td>[{\"iso_3166_1\": \"IT\", \"name\": \"Italy\"}]</td>\n",
       "      <td>2015-12-03</td>\n",
       "      <td>0</td>\n",
       "      <td>NaN</td>\n",
       "      <td>[{\"iso_639_1\": \"es\", \"name\": \"Espa\\u00f1ol\"}]</td>\n",
       "      <td>NA</td>\n",
       "      <td>Chiamatemi Francesco - Il Papa della gente</td>\n",
       "      <td>7.3</td>\n",
       "      <td>12</td>\n",
       "      <td>[{\"cast_id\": 5, \"character\": \"Jorge Mario Berg...</td>\n",
       "      <td>[{\"credit_id\": \"5660019ac3a36875f100252b\", \"de...</td>\n",
       "    </tr>\n",
       "    <tr>\n",
       "      <th>4140</th>\n",
       "      <td>2</td>\n",
       "      <td>[{\"id\": 99, \"name\": \"Documentary\"}]</td>\n",
       "      <td>[{\"id\": 6027, \"name\": \"music\"}, {\"id\": 225822,...</td>\n",
       "      <td>en</td>\n",
       "      <td>NA</td>\n",
       "      <td>0.050625</td>\n",
       "      <td>[{\"name\": \"Eyeline Entertainment\", \"id\": 60343}]</td>\n",
       "      <td>[{\"iso_3166_1\": \"GB\", \"name\": \"United Kingdom\"}]</td>\n",
       "      <td>2015-12-12</td>\n",
       "      <td>0</td>\n",
       "      <td>NaN</td>\n",
       "      <td>[]</td>\n",
       "      <td>NA</td>\n",
       "      <td>To Be Frank, Sinatra at 100</td>\n",
       "      <td>0.0</td>\n",
       "      <td>0</td>\n",
       "      <td>[{\"cast_id\": 0, \"character\": \"Narrator\", \"cred...</td>\n",
       "      <td>[{\"credit_id\": \"592b25e4c3a368783e065a2f\", \"de...</td>\n",
       "    </tr>\n",
       "    <tr>\n",
       "      <th>4431</th>\n",
       "      <td>913000</td>\n",
       "      <td>[{\"id\": 99, \"name\": \"Documentary\"}]</td>\n",
       "      <td>[]</td>\n",
       "      <td>de</td>\n",
       "      <td>NA</td>\n",
       "      <td>0.795698</td>\n",
       "      <td>[]</td>\n",
       "      <td>[]</td>\n",
       "      <td>2014-04-26</td>\n",
       "      <td>0</td>\n",
       "      <td>83.0</td>\n",
       "      <td>[{\"iso_639_1\": \"en\", \"name\": \"English\"}]</td>\n",
       "      <td>NA</td>\n",
       "      <td>Food Chains</td>\n",
       "      <td>7.4</td>\n",
       "      <td>8</td>\n",
       "      <td>[]</td>\n",
       "      <td>[{\"credit_id\": \"5470c3b1c3a368085e000abd\", \"de...</td>\n",
       "    </tr>\n",
       "  </tbody>\n",
       "</table>\n",
       "</div>"
      ],
      "text/plain": [
       "        budget                               genres  \\\n",
       "2656  15000000        [{\"id\": 18, \"name\": \"Drama\"}]   \n",
       "4140         2  [{\"id\": 99, \"name\": \"Documentary\"}]   \n",
       "4431    913000  [{\"id\": 99, \"name\": \"Documentary\"}]   \n",
       "\n",
       "                                               keywords original_language  \\\n",
       "2656  [{\"id\": 717, \"name\": \"pope\"}, {\"id\": 5565, \"na...                it   \n",
       "4140  [{\"id\": 6027, \"name\": \"music\"}, {\"id\": 225822,...                en   \n",
       "4431                                                 []                de   \n",
       "\n",
       "     overview  popularity                              production_companies  \\\n",
       "2656       NA    0.738646            [{\"name\": \"Taodue Film\", \"id\": 45724}]   \n",
       "4140       NA    0.050625  [{\"name\": \"Eyeline Entertainment\", \"id\": 60343}]   \n",
       "4431       NA    0.795698                                                []   \n",
       "\n",
       "                                  production_countries release_date  revenue  \\\n",
       "2656           [{\"iso_3166_1\": \"IT\", \"name\": \"Italy\"}]   2015-12-03        0   \n",
       "4140  [{\"iso_3166_1\": \"GB\", \"name\": \"United Kingdom\"}]   2015-12-12        0   \n",
       "4431                                                []   2014-04-26        0   \n",
       "\n",
       "      runtime                               spoken_languages tagline  \\\n",
       "2656      NaN  [{\"iso_639_1\": \"es\", \"name\": \"Espa\\u00f1ol\"}]      NA   \n",
       "4140      NaN                                             []      NA   \n",
       "4431     83.0       [{\"iso_639_1\": \"en\", \"name\": \"English\"}]      NA   \n",
       "\n",
       "                                           title  vote_average  vote_count  \\\n",
       "2656  Chiamatemi Francesco - Il Papa della gente           7.3          12   \n",
       "4140                 To Be Frank, Sinatra at 100           0.0           0   \n",
       "4431                                 Food Chains           7.4           8   \n",
       "\n",
       "                                                   cast  \\\n",
       "2656  [{\"cast_id\": 5, \"character\": \"Jorge Mario Berg...   \n",
       "4140  [{\"cast_id\": 0, \"character\": \"Narrator\", \"cred...   \n",
       "4431                                                 []   \n",
       "\n",
       "                                                   crew  \n",
       "2656  [{\"credit_id\": \"5660019ac3a36875f100252b\", \"de...  \n",
       "4140  [{\"credit_id\": \"592b25e4c3a368783e065a2f\", \"de...  \n",
       "4431  [{\"credit_id\": \"5470c3b1c3a368085e000abd\", \"de...  "
      ]
     },
     "execution_count": 21,
     "metadata": {},
     "output_type": "execute_result"
    }
   ],
   "source": [
    "tmdb[tmdb.overview == 'NA']"
   ]
  },
  {
   "cell_type": "code",
   "execution_count": 22,
   "metadata": {},
   "outputs": [
    {
     "name": "stdout",
     "output_type": "stream",
     "text": [
      "<class 'pandas.core.frame.DataFrame'>\n",
      "Int64Index: 4802 entries, 0 to 4802\n",
      "Data columns (total 18 columns):\n",
      "budget                  4802 non-null int64\n",
      "genres                  4802 non-null object\n",
      "keywords                4802 non-null object\n",
      "original_language       4802 non-null object\n",
      "overview                4802 non-null object\n",
      "popularity              4802 non-null float64\n",
      "production_companies    4802 non-null object\n",
      "production_countries    4802 non-null object\n",
      "release_date            4802 non-null object\n",
      "revenue                 4802 non-null int64\n",
      "runtime                 4800 non-null float64\n",
      "spoken_languages        4802 non-null object\n",
      "tagline                 4802 non-null object\n",
      "title                   4802 non-null object\n",
      "vote_average            4802 non-null float64\n",
      "vote_count              4802 non-null int64\n",
      "cast                    4802 non-null object\n",
      "crew                    4802 non-null object\n",
      "dtypes: float64(3), int64(3), object(12)\n",
      "memory usage: 712.8+ KB\n"
     ]
    }
   ],
   "source": [
    "tmdb.info()"
   ]
  },
  {
   "cell_type": "code",
   "execution_count": 23,
   "metadata": {},
   "outputs": [],
   "source": [
    "tmdb.release_date = pd.to_datetime(tmdb.release_date, infer_datetime_format=True)"
   ]
  },
  {
   "cell_type": "code",
   "execution_count": 24,
   "metadata": {},
   "outputs": [
    {
     "name": "stdout",
     "output_type": "stream",
     "text": [
      "<class 'pandas.core.frame.DataFrame'>\n",
      "Int64Index: 4802 entries, 0 to 4802\n",
      "Data columns (total 18 columns):\n",
      "budget                  4802 non-null int64\n",
      "genres                  4802 non-null object\n",
      "keywords                4802 non-null object\n",
      "original_language       4802 non-null object\n",
      "overview                4802 non-null object\n",
      "popularity              4802 non-null float64\n",
      "production_companies    4802 non-null object\n",
      "production_countries    4802 non-null object\n",
      "release_date            4802 non-null datetime64[ns]\n",
      "revenue                 4802 non-null int64\n",
      "runtime                 4800 non-null float64\n",
      "spoken_languages        4802 non-null object\n",
      "tagline                 4802 non-null object\n",
      "title                   4802 non-null object\n",
      "vote_average            4802 non-null float64\n",
      "vote_count              4802 non-null int64\n",
      "cast                    4802 non-null object\n",
      "crew                    4802 non-null object\n",
      "dtypes: datetime64[ns](1), float64(3), int64(3), object(11)\n",
      "memory usage: 712.8+ KB\n"
     ]
    }
   ],
   "source": [
    "tmdb.info()"
   ]
  },
  {
   "cell_type": "code",
   "execution_count": 25,
   "metadata": {},
   "outputs": [
    {
     "data": {
      "text/html": [
       "<div>\n",
       "<style scoped>\n",
       "    .dataframe tbody tr th:only-of-type {\n",
       "        vertical-align: middle;\n",
       "    }\n",
       "\n",
       "    .dataframe tbody tr th {\n",
       "        vertical-align: top;\n",
       "    }\n",
       "\n",
       "    .dataframe thead th {\n",
       "        text-align: right;\n",
       "    }\n",
       "</style>\n",
       "<table border=\"1\" class=\"dataframe\">\n",
       "  <thead>\n",
       "    <tr style=\"text-align: right;\">\n",
       "      <th></th>\n",
       "      <th>budget</th>\n",
       "      <th>genres</th>\n",
       "      <th>keywords</th>\n",
       "      <th>original_language</th>\n",
       "      <th>overview</th>\n",
       "      <th>popularity</th>\n",
       "      <th>production_companies</th>\n",
       "      <th>production_countries</th>\n",
       "      <th>release_date</th>\n",
       "      <th>revenue</th>\n",
       "      <th>runtime</th>\n",
       "      <th>spoken_languages</th>\n",
       "      <th>tagline</th>\n",
       "      <th>title</th>\n",
       "      <th>vote_average</th>\n",
       "      <th>vote_count</th>\n",
       "      <th>cast</th>\n",
       "      <th>crew</th>\n",
       "    </tr>\n",
       "  </thead>\n",
       "  <tbody>\n",
       "    <tr>\n",
       "      <th>0</th>\n",
       "      <td>237000000</td>\n",
       "      <td>[{\"id\": 28, \"name\": \"Action\"}, {\"id\": 12, \"nam...</td>\n",
       "      <td>[{\"id\": 1463, \"name\": \"culture clash\"}, {\"id\":...</td>\n",
       "      <td>en</td>\n",
       "      <td>In the 22nd century, a paraplegic Marine is di...</td>\n",
       "      <td>150.437577</td>\n",
       "      <td>[{\"name\": \"Ingenious Film Partners\", \"id\": 289...</td>\n",
       "      <td>[{\"iso_3166_1\": \"US\", \"name\": \"United States o...</td>\n",
       "      <td>2009-12-10</td>\n",
       "      <td>2787965087</td>\n",
       "      <td>162.0</td>\n",
       "      <td>[{\"iso_639_1\": \"en\", \"name\": \"English\"}, {\"iso...</td>\n",
       "      <td>Enter the World of Pandora.</td>\n",
       "      <td>Avatar</td>\n",
       "      <td>7.2</td>\n",
       "      <td>11800</td>\n",
       "      <td>[{\"cast_id\": 242, \"character\": \"Jake Sully\", \"...</td>\n",
       "      <td>[{\"credit_id\": \"52fe48009251416c750aca23\", \"de...</td>\n",
       "    </tr>\n",
       "  </tbody>\n",
       "</table>\n",
       "</div>"
      ],
      "text/plain": [
       "      budget                                             genres  \\\n",
       "0  237000000  [{\"id\": 28, \"name\": \"Action\"}, {\"id\": 12, \"nam...   \n",
       "\n",
       "                                            keywords original_language  \\\n",
       "0  [{\"id\": 1463, \"name\": \"culture clash\"}, {\"id\":...                en   \n",
       "\n",
       "                                            overview  popularity  \\\n",
       "0  In the 22nd century, a paraplegic Marine is di...  150.437577   \n",
       "\n",
       "                                production_companies  \\\n",
       "0  [{\"name\": \"Ingenious Film Partners\", \"id\": 289...   \n",
       "\n",
       "                                production_countries release_date     revenue  \\\n",
       "0  [{\"iso_3166_1\": \"US\", \"name\": \"United States o...   2009-12-10  2787965087   \n",
       "\n",
       "   runtime                                   spoken_languages  \\\n",
       "0    162.0  [{\"iso_639_1\": \"en\", \"name\": \"English\"}, {\"iso...   \n",
       "\n",
       "                       tagline   title  vote_average  vote_count  \\\n",
       "0  Enter the World of Pandora.  Avatar           7.2       11800   \n",
       "\n",
       "                                                cast  \\\n",
       "0  [{\"cast_id\": 242, \"character\": \"Jake Sully\", \"...   \n",
       "\n",
       "                                                crew  \n",
       "0  [{\"credit_id\": \"52fe48009251416c750aca23\", \"de...  "
      ]
     },
     "execution_count": 25,
     "metadata": {},
     "output_type": "execute_result"
    }
   ],
   "source": [
    "tmdb.head(1)"
   ]
  },
  {
   "cell_type": "code",
   "execution_count": 26,
   "metadata": {},
   "outputs": [
    {
     "data": {
      "text/plain": [
       "Index(['budget', 'genres', 'keywords', 'original_language', 'overview',\n",
       "       'popularity', 'production_companies', 'production_countries',\n",
       "       'release_date', 'revenue', 'runtime', 'spoken_languages', 'tagline',\n",
       "       'title', 'vote_average', 'vote_count', 'cast', 'crew'],\n",
       "      dtype='object')"
      ]
     },
     "execution_count": 26,
     "metadata": {},
     "output_type": "execute_result"
    }
   ],
   "source": [
    "tmdb.columns"
   ]
  },
  {
   "cell_type": "code",
   "execution_count": 27,
   "metadata": {},
   "outputs": [],
   "source": [
    "cols_to_drop = ['genres', 'keywords','production_companies', 'release_date',\n",
    "                'production_countries','spoken_languages', 'cast', 'crew','overview', 'title', 'tagline']"
   ]
  },
  {
   "cell_type": "code",
   "execution_count": 28,
   "metadata": {},
   "outputs": [],
   "source": [
    "analysis_tmdb = tmdb.drop(cols_to_drop,axis=1)"
   ]
  },
  {
   "cell_type": "code",
   "execution_count": 29,
   "metadata": {},
   "outputs": [
    {
     "data": {
      "text/html": [
       "<div>\n",
       "<style scoped>\n",
       "    .dataframe tbody tr th:only-of-type {\n",
       "        vertical-align: middle;\n",
       "    }\n",
       "\n",
       "    .dataframe tbody tr th {\n",
       "        vertical-align: top;\n",
       "    }\n",
       "\n",
       "    .dataframe thead th {\n",
       "        text-align: right;\n",
       "    }\n",
       "</style>\n",
       "<table border=\"1\" class=\"dataframe\">\n",
       "  <thead>\n",
       "    <tr style=\"text-align: right;\">\n",
       "      <th></th>\n",
       "      <th>budget</th>\n",
       "      <th>original_language</th>\n",
       "      <th>popularity</th>\n",
       "      <th>revenue</th>\n",
       "      <th>runtime</th>\n",
       "      <th>vote_average</th>\n",
       "      <th>vote_count</th>\n",
       "    </tr>\n",
       "  </thead>\n",
       "  <tbody>\n",
       "    <tr>\n",
       "      <th>0</th>\n",
       "      <td>237000000</td>\n",
       "      <td>en</td>\n",
       "      <td>150.437577</td>\n",
       "      <td>2787965087</td>\n",
       "      <td>162.0</td>\n",
       "      <td>7.2</td>\n",
       "      <td>11800</td>\n",
       "    </tr>\n",
       "  </tbody>\n",
       "</table>\n",
       "</div>"
      ],
      "text/plain": [
       "      budget original_language  popularity     revenue  runtime  vote_average  \\\n",
       "0  237000000                en  150.437577  2787965087    162.0           7.2   \n",
       "\n",
       "   vote_count  \n",
       "0       11800  "
      ]
     },
     "execution_count": 29,
     "metadata": {},
     "output_type": "execute_result"
    }
   ],
   "source": [
    "analysis_tmdb.head(1)"
   ]
  },
  {
   "cell_type": "code",
   "execution_count": 30,
   "metadata": {},
   "outputs": [
    {
     "data": {
      "text/plain": [
       "Index(['cn', 'ru', 'ko', 'pt', 'da', 'sv', 'fa', 'nl', 'he', 'th', 'ar', 'ro',\n",
       "       'ta', 'id', 'cs', 'sl', 'af', 'el', 'hu', 'pl', 'nb', 'xx', 'tr', 'ps',\n",
       "       'vi', 'ky', 'is', 'no', 'te'],\n",
       "      dtype='object')"
      ]
     },
     "execution_count": 30,
     "metadata": {},
     "output_type": "execute_result"
    }
   ],
   "source": [
    "lan_val = analysis_tmdb.original_language.value_counts()\n",
    "lan_val[lan_val < 14].index"
   ]
  },
  {
   "cell_type": "code",
   "execution_count": 31,
   "metadata": {},
   "outputs": [],
   "source": [
    "analysis_tmdb.loc[analysis_tmdb.original_language.isin(lan_val[lan_val < 14].index), 'original_language'] = 'other'"
   ]
  },
  {
   "cell_type": "code",
   "execution_count": 32,
   "metadata": {},
   "outputs": [
    {
     "data": {
      "text/plain": [
       "en       4504\n",
       "other      93\n",
       "fr         70\n",
       "es         32\n",
       "zh         27\n",
       "de         27\n",
       "hi         19\n",
       "ja         16\n",
       "it         14\n",
       "Name: original_language, dtype: int64"
      ]
     },
     "execution_count": 32,
     "metadata": {},
     "output_type": "execute_result"
    }
   ],
   "source": [
    "analysis_tmdb.original_language.value_counts()"
   ]
  },
  {
   "cell_type": "code",
   "execution_count": 33,
   "metadata": {},
   "outputs": [
    {
     "name": "stdout",
     "output_type": "stream",
     "text": [
      "<class 'pandas.core.frame.DataFrame'>\n",
      "Int64Index: 4802 entries, 0 to 4802\n",
      "Data columns (total 7 columns):\n",
      "budget               4802 non-null int64\n",
      "original_language    4802 non-null object\n",
      "popularity           4802 non-null float64\n",
      "revenue              4802 non-null int64\n",
      "runtime              4800 non-null float64\n",
      "vote_average         4802 non-null float64\n",
      "vote_count           4802 non-null int64\n",
      "dtypes: float64(3), int64(3), object(1)\n",
      "memory usage: 300.1+ KB\n"
     ]
    }
   ],
   "source": [
    "analysis_tmdb.info()"
   ]
  },
  {
   "cell_type": "code",
   "execution_count": 34,
   "metadata": {},
   "outputs": [
    {
     "data": {
      "text/plain": [
       "7000       1\n",
       "650        1\n",
       "500        1\n",
       "250        2\n",
       "218        1\n",
       "200        1\n",
       "110        1\n",
       "108        1\n",
       "100        1\n",
       "30         1\n",
       "28         1\n",
       "25         1\n",
       "15         1\n",
       "13         1\n",
       "11         1\n",
       "10         3\n",
       "8          1\n",
       "7          2\n",
       "4          2\n",
       "3          1\n",
       "2          1\n",
       "1          7\n",
       "0       1036\n",
       "Name: budget, dtype: int64"
      ]
     },
     "execution_count": 34,
     "metadata": {},
     "output_type": "execute_result"
    }
   ],
   "source": [
    "analysis_tmdb['budget'].value_counts().sort_index(ascending=False).tail(23)"
   ]
  },
  {
   "cell_type": "code",
   "execution_count": 35,
   "metadata": {},
   "outputs": [
    {
     "data": {
      "text/html": [
       "<div>\n",
       "<style scoped>\n",
       "    .dataframe tbody tr th:only-of-type {\n",
       "        vertical-align: middle;\n",
       "    }\n",
       "\n",
       "    .dataframe tbody tr th {\n",
       "        vertical-align: top;\n",
       "    }\n",
       "\n",
       "    .dataframe thead th {\n",
       "        text-align: right;\n",
       "    }\n",
       "</style>\n",
       "<table border=\"1\" class=\"dataframe\">\n",
       "  <thead>\n",
       "    <tr style=\"text-align: right;\">\n",
       "      <th></th>\n",
       "      <th>count</th>\n",
       "      <th>mean</th>\n",
       "      <th>std</th>\n",
       "      <th>min</th>\n",
       "      <th>25%</th>\n",
       "      <th>50%</th>\n",
       "      <th>75%</th>\n",
       "      <th>max</th>\n",
       "    </tr>\n",
       "  </thead>\n",
       "  <tbody>\n",
       "    <tr>\n",
       "      <th>budget</th>\n",
       "      <td>4802.0</td>\n",
       "      <td>2.905109e+07</td>\n",
       "      <td>4.072447e+07</td>\n",
       "      <td>0.000000</td>\n",
       "      <td>800000.000000</td>\n",
       "      <td>1.500000e+07</td>\n",
       "      <td>4.000000e+07</td>\n",
       "      <td>3.800000e+08</td>\n",
       "    </tr>\n",
       "    <tr>\n",
       "      <th>popularity</th>\n",
       "      <td>4802.0</td>\n",
       "      <td>2.149678e+01</td>\n",
       "      <td>3.181845e+01</td>\n",
       "      <td>0.000372</td>\n",
       "      <td>4.671734</td>\n",
       "      <td>1.292493e+01</td>\n",
       "      <td>2.833202e+01</td>\n",
       "      <td>8.755813e+02</td>\n",
       "    </tr>\n",
       "    <tr>\n",
       "      <th>revenue</th>\n",
       "      <td>4802.0</td>\n",
       "      <td>8.227777e+07</td>\n",
       "      <td>1.628697e+08</td>\n",
       "      <td>0.000000</td>\n",
       "      <td>0.000000</td>\n",
       "      <td>1.917498e+07</td>\n",
       "      <td>9.291920e+07</td>\n",
       "      <td>2.787965e+09</td>\n",
       "    </tr>\n",
       "    <tr>\n",
       "      <th>runtime</th>\n",
       "      <td>4800.0</td>\n",
       "      <td>1.068981e+02</td>\n",
       "      <td>2.256159e+01</td>\n",
       "      <td>0.000000</td>\n",
       "      <td>94.000000</td>\n",
       "      <td>1.030000e+02</td>\n",
       "      <td>1.180000e+02</td>\n",
       "      <td>3.380000e+02</td>\n",
       "    </tr>\n",
       "    <tr>\n",
       "      <th>vote_average</th>\n",
       "      <td>4802.0</td>\n",
       "      <td>6.093440e+00</td>\n",
       "      <td>1.191496e+00</td>\n",
       "      <td>0.000000</td>\n",
       "      <td>5.600000</td>\n",
       "      <td>6.200000e+00</td>\n",
       "      <td>6.800000e+00</td>\n",
       "      <td>1.000000e+01</td>\n",
       "    </tr>\n",
       "    <tr>\n",
       "      <th>vote_count</th>\n",
       "      <td>4802.0</td>\n",
       "      <td>6.903617e+02</td>\n",
       "      <td>1.234674e+03</td>\n",
       "      <td>0.000000</td>\n",
       "      <td>54.000000</td>\n",
       "      <td>2.355000e+02</td>\n",
       "      <td>7.370000e+02</td>\n",
       "      <td>1.375200e+04</td>\n",
       "    </tr>\n",
       "  </tbody>\n",
       "</table>\n",
       "</div>"
      ],
      "text/plain": [
       "               count          mean           std       min            25%  \\\n",
       "budget        4802.0  2.905109e+07  4.072447e+07  0.000000  800000.000000   \n",
       "popularity    4802.0  2.149678e+01  3.181845e+01  0.000372       4.671734   \n",
       "revenue       4802.0  8.227777e+07  1.628697e+08  0.000000       0.000000   \n",
       "runtime       4800.0  1.068981e+02  2.256159e+01  0.000000      94.000000   \n",
       "vote_average  4802.0  6.093440e+00  1.191496e+00  0.000000       5.600000   \n",
       "vote_count    4802.0  6.903617e+02  1.234674e+03  0.000000      54.000000   \n",
       "\n",
       "                       50%           75%           max  \n",
       "budget        1.500000e+07  4.000000e+07  3.800000e+08  \n",
       "popularity    1.292493e+01  2.833202e+01  8.755813e+02  \n",
       "revenue       1.917498e+07  9.291920e+07  2.787965e+09  \n",
       "runtime       1.030000e+02  1.180000e+02  3.380000e+02  \n",
       "vote_average  6.200000e+00  6.800000e+00  1.000000e+01  \n",
       "vote_count    2.355000e+02  7.370000e+02  1.375200e+04  "
      ]
     },
     "execution_count": 35,
     "metadata": {},
     "output_type": "execute_result"
    }
   ],
   "source": [
    "analysis_tmdb.describe().T"
   ]
  },
  {
   "cell_type": "code",
   "execution_count": 36,
   "metadata": {},
   "outputs": [],
   "source": [
    "# Definido que os budgets inferiores a 7000 USD possuem algum problema"
   ]
  },
  {
   "cell_type": "code",
   "execution_count": 37,
   "metadata": {},
   "outputs": [],
   "source": [
    "idx_drop = analysis_tmdb[analysis_tmdb.budget < 7000].index"
   ]
  },
  {
   "cell_type": "code",
   "execution_count": 38,
   "metadata": {},
   "outputs": [],
   "source": [
    "analysis_tmdb.drop(index=idx_drop, inplace=True)"
   ]
  },
  {
   "cell_type": "code",
   "execution_count": 39,
   "metadata": {},
   "outputs": [
    {
     "data": {
      "text/html": [
       "<div>\n",
       "<style scoped>\n",
       "    .dataframe tbody tr th:only-of-type {\n",
       "        vertical-align: middle;\n",
       "    }\n",
       "\n",
       "    .dataframe tbody tr th {\n",
       "        vertical-align: top;\n",
       "    }\n",
       "\n",
       "    .dataframe thead th {\n",
       "        text-align: right;\n",
       "    }\n",
       "</style>\n",
       "<table border=\"1\" class=\"dataframe\">\n",
       "  <thead>\n",
       "    <tr style=\"text-align: right;\">\n",
       "      <th></th>\n",
       "      <th>budget</th>\n",
       "      <th>original_language</th>\n",
       "      <th>popularity</th>\n",
       "      <th>revenue</th>\n",
       "      <th>runtime</th>\n",
       "      <th>vote_average</th>\n",
       "      <th>vote_count</th>\n",
       "    </tr>\n",
       "  </thead>\n",
       "  <tbody>\n",
       "  </tbody>\n",
       "</table>\n",
       "</div>"
      ],
      "text/plain": [
       "Empty DataFrame\n",
       "Columns: [budget, original_language, popularity, revenue, runtime, vote_average, vote_count]\n",
       "Index: []"
      ]
     },
     "execution_count": 39,
     "metadata": {},
     "output_type": "execute_result"
    }
   ],
   "source": [
    "analysis_tmdb[analysis_tmdb.budget < 7000]"
   ]
  },
  {
   "cell_type": "code",
   "execution_count": 40,
   "metadata": {},
   "outputs": [
    {
     "data": {
      "text/plain": [
       "113783      1\n",
       "111731      1\n",
       "111300      1\n",
       "108348      1\n",
       "107559      1\n",
       "103735      1\n",
       "99000       1\n",
       "98017       1\n",
       "95000       1\n",
       "78396       1\n",
       "76382       1\n",
       "73706       1\n",
       "71904       1\n",
       "69497       1\n",
       "66351       1\n",
       "62852       1\n",
       "56825       1\n",
       "54207       1\n",
       "53086       1\n",
       "46495       1\n",
       "46488       1\n",
       "45779       1\n",
       "45000       1\n",
       "44462       1\n",
       "40542       1\n",
       "33245       1\n",
       "32251       1\n",
       "32000       1\n",
       "31081       1\n",
       "30905       1\n",
       "30471       1\n",
       "25000       1\n",
       "23000       1\n",
       "22000       1\n",
       "20380       1\n",
       "17479       1\n",
       "17472       1\n",
       "14873       1\n",
       "10508       1\n",
       "10018       1\n",
       "10000       1\n",
       "9069        1\n",
       "7202        1\n",
       "6399        1\n",
       "3330        1\n",
       "46          1\n",
       "23          1\n",
       "12          2\n",
       "7           1\n",
       "0         518\n",
       "Name: revenue, dtype: int64"
      ]
     },
     "execution_count": 40,
     "metadata": {},
     "output_type": "execute_result"
    }
   ],
   "source": [
    "analysis_tmdb['revenue'].value_counts().sort_index(ascending=False).tail(50)"
   ]
  },
  {
   "cell_type": "code",
   "execution_count": 41,
   "metadata": {},
   "outputs": [],
   "source": [
    "analysis_tmdb['vote_average_enc'] = analysis_tmdb.vote_average >= 7"
   ]
  },
  {
   "cell_type": "code",
   "execution_count": 42,
   "metadata": {},
   "outputs": [],
   "source": [
    "analysis_tmdb['vote_average_enc'] = analysis_tmdb.vote_average < 7"
   ]
  },
  {
   "cell_type": "code",
   "execution_count": 43,
   "metadata": {},
   "outputs": [
    {
     "data": {
      "text/html": [
       "<div>\n",
       "<style scoped>\n",
       "    .dataframe tbody tr th:only-of-type {\n",
       "        vertical-align: middle;\n",
       "    }\n",
       "\n",
       "    .dataframe tbody tr th {\n",
       "        vertical-align: top;\n",
       "    }\n",
       "\n",
       "    .dataframe thead th {\n",
       "        text-align: right;\n",
       "    }\n",
       "</style>\n",
       "<table border=\"1\" class=\"dataframe\">\n",
       "  <thead>\n",
       "    <tr style=\"text-align: right;\">\n",
       "      <th></th>\n",
       "      <th>budget</th>\n",
       "      <th>original_language</th>\n",
       "      <th>popularity</th>\n",
       "      <th>revenue</th>\n",
       "      <th>runtime</th>\n",
       "      <th>vote_average</th>\n",
       "      <th>vote_count</th>\n",
       "      <th>vote_average_enc</th>\n",
       "    </tr>\n",
       "  </thead>\n",
       "  <tbody>\n",
       "    <tr>\n",
       "      <th>0</th>\n",
       "      <td>237000000</td>\n",
       "      <td>en</td>\n",
       "      <td>150.437577</td>\n",
       "      <td>2787965087</td>\n",
       "      <td>162.0</td>\n",
       "      <td>7.2</td>\n",
       "      <td>11800</td>\n",
       "      <td>False</td>\n",
       "    </tr>\n",
       "    <tr>\n",
       "      <th>1</th>\n",
       "      <td>300000000</td>\n",
       "      <td>en</td>\n",
       "      <td>139.082615</td>\n",
       "      <td>961000000</td>\n",
       "      <td>169.0</td>\n",
       "      <td>6.9</td>\n",
       "      <td>4500</td>\n",
       "      <td>True</td>\n",
       "    </tr>\n",
       "    <tr>\n",
       "      <th>2</th>\n",
       "      <td>245000000</td>\n",
       "      <td>en</td>\n",
       "      <td>107.376788</td>\n",
       "      <td>880674609</td>\n",
       "      <td>148.0</td>\n",
       "      <td>6.3</td>\n",
       "      <td>4466</td>\n",
       "      <td>True</td>\n",
       "    </tr>\n",
       "    <tr>\n",
       "      <th>3</th>\n",
       "      <td>250000000</td>\n",
       "      <td>en</td>\n",
       "      <td>112.312950</td>\n",
       "      <td>1084939099</td>\n",
       "      <td>165.0</td>\n",
       "      <td>7.6</td>\n",
       "      <td>9106</td>\n",
       "      <td>False</td>\n",
       "    </tr>\n",
       "    <tr>\n",
       "      <th>4</th>\n",
       "      <td>260000000</td>\n",
       "      <td>en</td>\n",
       "      <td>43.926995</td>\n",
       "      <td>284139100</td>\n",
       "      <td>132.0</td>\n",
       "      <td>6.1</td>\n",
       "      <td>2124</td>\n",
       "      <td>True</td>\n",
       "    </tr>\n",
       "    <tr>\n",
       "      <th>...</th>\n",
       "      <td>...</td>\n",
       "      <td>...</td>\n",
       "      <td>...</td>\n",
       "      <td>...</td>\n",
       "      <td>...</td>\n",
       "      <td>...</td>\n",
       "      <td>...</td>\n",
       "      <td>...</td>\n",
       "    </tr>\n",
       "    <tr>\n",
       "      <th>4788</th>\n",
       "      <td>12000</td>\n",
       "      <td>en</td>\n",
       "      <td>4.553644</td>\n",
       "      <td>6000000</td>\n",
       "      <td>93.0</td>\n",
       "      <td>6.2</td>\n",
       "      <td>110</td>\n",
       "      <td>True</td>\n",
       "    </tr>\n",
       "    <tr>\n",
       "      <th>4792</th>\n",
       "      <td>20000</td>\n",
       "      <td>ja</td>\n",
       "      <td>0.212443</td>\n",
       "      <td>99000</td>\n",
       "      <td>111.0</td>\n",
       "      <td>7.4</td>\n",
       "      <td>63</td>\n",
       "      <td>False</td>\n",
       "    </tr>\n",
       "    <tr>\n",
       "      <th>4796</th>\n",
       "      <td>7000</td>\n",
       "      <td>en</td>\n",
       "      <td>23.307949</td>\n",
       "      <td>424760</td>\n",
       "      <td>77.0</td>\n",
       "      <td>6.9</td>\n",
       "      <td>658</td>\n",
       "      <td>True</td>\n",
       "    </tr>\n",
       "    <tr>\n",
       "      <th>4798</th>\n",
       "      <td>220000</td>\n",
       "      <td>es</td>\n",
       "      <td>14.269792</td>\n",
       "      <td>2040920</td>\n",
       "      <td>81.0</td>\n",
       "      <td>6.6</td>\n",
       "      <td>238</td>\n",
       "      <td>True</td>\n",
       "    </tr>\n",
       "    <tr>\n",
       "      <th>4799</th>\n",
       "      <td>9000</td>\n",
       "      <td>en</td>\n",
       "      <td>0.642552</td>\n",
       "      <td>0</td>\n",
       "      <td>85.0</td>\n",
       "      <td>5.9</td>\n",
       "      <td>5</td>\n",
       "      <td>True</td>\n",
       "    </tr>\n",
       "  </tbody>\n",
       "</table>\n",
       "<p>3734 rows × 8 columns</p>\n",
       "</div>"
      ],
      "text/plain": [
       "         budget original_language  popularity     revenue  runtime  \\\n",
       "0     237000000                en  150.437577  2787965087    162.0   \n",
       "1     300000000                en  139.082615   961000000    169.0   \n",
       "2     245000000                en  107.376788   880674609    148.0   \n",
       "3     250000000                en  112.312950  1084939099    165.0   \n",
       "4     260000000                en   43.926995   284139100    132.0   \n",
       "...         ...               ...         ...         ...      ...   \n",
       "4788      12000                en    4.553644     6000000     93.0   \n",
       "4792      20000                ja    0.212443       99000    111.0   \n",
       "4796       7000                en   23.307949      424760     77.0   \n",
       "4798     220000                es   14.269792     2040920     81.0   \n",
       "4799       9000                en    0.642552           0     85.0   \n",
       "\n",
       "      vote_average  vote_count  vote_average_enc  \n",
       "0              7.2       11800             False  \n",
       "1              6.9        4500              True  \n",
       "2              6.3        4466              True  \n",
       "3              7.6        9106             False  \n",
       "4              6.1        2124              True  \n",
       "...            ...         ...               ...  \n",
       "4788           6.2         110              True  \n",
       "4792           7.4          63             False  \n",
       "4796           6.9         658              True  \n",
       "4798           6.6         238              True  \n",
       "4799           5.9           5              True  \n",
       "\n",
       "[3734 rows x 8 columns]"
      ]
     },
     "execution_count": 43,
     "metadata": {},
     "output_type": "execute_result"
    }
   ],
   "source": [
    "analysis_tmdb"
   ]
  },
  {
   "cell_type": "code",
   "execution_count": null,
   "metadata": {},
   "outputs": [],
   "source": []
  },
  {
   "cell_type": "code",
   "execution_count": 44,
   "metadata": {},
   "outputs": [
    {
     "data": {
      "text/html": [
       "<div>\n",
       "<style scoped>\n",
       "    .dataframe tbody tr th:only-of-type {\n",
       "        vertical-align: middle;\n",
       "    }\n",
       "\n",
       "    .dataframe tbody tr th {\n",
       "        vertical-align: top;\n",
       "    }\n",
       "\n",
       "    .dataframe thead th {\n",
       "        text-align: right;\n",
       "    }\n",
       "</style>\n",
       "<table border=\"1\" class=\"dataframe\">\n",
       "  <thead>\n",
       "    <tr style=\"text-align: right;\">\n",
       "      <th></th>\n",
       "      <th>budget</th>\n",
       "      <th>original_language</th>\n",
       "      <th>popularity</th>\n",
       "      <th>revenue</th>\n",
       "      <th>runtime</th>\n",
       "      <th>vote_average</th>\n",
       "      <th>vote_count</th>\n",
       "      <th>vote_average_enc</th>\n",
       "    </tr>\n",
       "  </thead>\n",
       "  <tbody>\n",
       "    <tr>\n",
       "      <th>0</th>\n",
       "      <td>237000000</td>\n",
       "      <td>en</td>\n",
       "      <td>150.437577</td>\n",
       "      <td>2787965087</td>\n",
       "      <td>162.0</td>\n",
       "      <td>7.2</td>\n",
       "      <td>11800</td>\n",
       "      <td>False</td>\n",
       "    </tr>\n",
       "    <tr>\n",
       "      <th>1</th>\n",
       "      <td>300000000</td>\n",
       "      <td>en</td>\n",
       "      <td>139.082615</td>\n",
       "      <td>961000000</td>\n",
       "      <td>169.0</td>\n",
       "      <td>6.9</td>\n",
       "      <td>4500</td>\n",
       "      <td>True</td>\n",
       "    </tr>\n",
       "    <tr>\n",
       "      <th>2</th>\n",
       "      <td>245000000</td>\n",
       "      <td>en</td>\n",
       "      <td>107.376788</td>\n",
       "      <td>880674609</td>\n",
       "      <td>148.0</td>\n",
       "      <td>6.3</td>\n",
       "      <td>4466</td>\n",
       "      <td>True</td>\n",
       "    </tr>\n",
       "    <tr>\n",
       "      <th>3</th>\n",
       "      <td>250000000</td>\n",
       "      <td>en</td>\n",
       "      <td>112.312950</td>\n",
       "      <td>1084939099</td>\n",
       "      <td>165.0</td>\n",
       "      <td>7.6</td>\n",
       "      <td>9106</td>\n",
       "      <td>False</td>\n",
       "    </tr>\n",
       "    <tr>\n",
       "      <th>4</th>\n",
       "      <td>260000000</td>\n",
       "      <td>en</td>\n",
       "      <td>43.926995</td>\n",
       "      <td>284139100</td>\n",
       "      <td>132.0</td>\n",
       "      <td>6.1</td>\n",
       "      <td>2124</td>\n",
       "      <td>True</td>\n",
       "    </tr>\n",
       "    <tr>\n",
       "      <th>...</th>\n",
       "      <td>...</td>\n",
       "      <td>...</td>\n",
       "      <td>...</td>\n",
       "      <td>...</td>\n",
       "      <td>...</td>\n",
       "      <td>...</td>\n",
       "      <td>...</td>\n",
       "      <td>...</td>\n",
       "    </tr>\n",
       "    <tr>\n",
       "      <th>4788</th>\n",
       "      <td>12000</td>\n",
       "      <td>en</td>\n",
       "      <td>4.553644</td>\n",
       "      <td>6000000</td>\n",
       "      <td>93.0</td>\n",
       "      <td>6.2</td>\n",
       "      <td>110</td>\n",
       "      <td>True</td>\n",
       "    </tr>\n",
       "    <tr>\n",
       "      <th>4792</th>\n",
       "      <td>20000</td>\n",
       "      <td>ja</td>\n",
       "      <td>0.212443</td>\n",
       "      <td>99000</td>\n",
       "      <td>111.0</td>\n",
       "      <td>7.4</td>\n",
       "      <td>63</td>\n",
       "      <td>False</td>\n",
       "    </tr>\n",
       "    <tr>\n",
       "      <th>4796</th>\n",
       "      <td>7000</td>\n",
       "      <td>en</td>\n",
       "      <td>23.307949</td>\n",
       "      <td>424760</td>\n",
       "      <td>77.0</td>\n",
       "      <td>6.9</td>\n",
       "      <td>658</td>\n",
       "      <td>True</td>\n",
       "    </tr>\n",
       "    <tr>\n",
       "      <th>4798</th>\n",
       "      <td>220000</td>\n",
       "      <td>es</td>\n",
       "      <td>14.269792</td>\n",
       "      <td>2040920</td>\n",
       "      <td>81.0</td>\n",
       "      <td>6.6</td>\n",
       "      <td>238</td>\n",
       "      <td>True</td>\n",
       "    </tr>\n",
       "    <tr>\n",
       "      <th>4799</th>\n",
       "      <td>9000</td>\n",
       "      <td>en</td>\n",
       "      <td>0.642552</td>\n",
       "      <td>0</td>\n",
       "      <td>85.0</td>\n",
       "      <td>5.9</td>\n",
       "      <td>5</td>\n",
       "      <td>True</td>\n",
       "    </tr>\n",
       "  </tbody>\n",
       "</table>\n",
       "<p>3733 rows × 8 columns</p>\n",
       "</div>"
      ],
      "text/plain": [
       "         budget original_language  popularity     revenue  runtime  \\\n",
       "0     237000000                en  150.437577  2787965087    162.0   \n",
       "1     300000000                en  139.082615   961000000    169.0   \n",
       "2     245000000                en  107.376788   880674609    148.0   \n",
       "3     250000000                en  112.312950  1084939099    165.0   \n",
       "4     260000000                en   43.926995   284139100    132.0   \n",
       "...         ...               ...         ...         ...      ...   \n",
       "4788      12000                en    4.553644     6000000     93.0   \n",
       "4792      20000                ja    0.212443       99000    111.0   \n",
       "4796       7000                en   23.307949      424760     77.0   \n",
       "4798     220000                es   14.269792     2040920     81.0   \n",
       "4799       9000                en    0.642552           0     85.0   \n",
       "\n",
       "      vote_average  vote_count  vote_average_enc  \n",
       "0              7.2       11800             False  \n",
       "1              6.9        4500              True  \n",
       "2              6.3        4466              True  \n",
       "3              7.6        9106             False  \n",
       "4              6.1        2124              True  \n",
       "...            ...         ...               ...  \n",
       "4788           6.2         110              True  \n",
       "4792           7.4          63             False  \n",
       "4796           6.9         658              True  \n",
       "4798           6.6         238              True  \n",
       "4799           5.9           5              True  \n",
       "\n",
       "[3733 rows x 8 columns]"
      ]
     },
     "execution_count": 44,
     "metadata": {},
     "output_type": "execute_result"
    }
   ],
   "source": [
    "analysis_tmdb.dropna()"
   ]
  },
  {
   "cell_type": "code",
   "execution_count": 45,
   "metadata": {},
   "outputs": [],
   "source": [
    "analysis_tmdb.dropna(inplace=True)"
   ]
  },
  {
   "cell_type": "code",
   "execution_count": 46,
   "metadata": {},
   "outputs": [
    {
     "name": "stdout",
     "output_type": "stream",
     "text": [
      "<class 'pandas.core.frame.DataFrame'>\n",
      "Int64Index: 3733 entries, 0 to 4799\n",
      "Data columns (total 8 columns):\n",
      "budget               3733 non-null int64\n",
      "original_language    3733 non-null object\n",
      "popularity           3733 non-null float64\n",
      "revenue              3733 non-null int64\n",
      "runtime              3733 non-null float64\n",
      "vote_average         3733 non-null float64\n",
      "vote_count           3733 non-null int64\n",
      "vote_average_enc     3733 non-null bool\n",
      "dtypes: bool(1), float64(3), int64(3), object(1)\n",
      "memory usage: 237.0+ KB\n"
     ]
    }
   ],
   "source": [
    "analysis_tmdb.info()"
   ]
  },
  {
   "cell_type": "code",
   "execution_count": 47,
   "metadata": {},
   "outputs": [],
   "source": [
    "X = analysis_tmdb.drop(['vote_average', 'vote_average_enc'], axis=1)\n",
    "X = pd.get_dummies(X, drop_first=True)\n",
    "y = analysis_tmdb.vote_average_enc"
   ]
  },
  {
   "cell_type": "code",
   "execution_count": 48,
   "metadata": {},
   "outputs": [],
   "source": [
    "X_train, X_test, y_train, y_test = train_test_split(X, y, random_state=42, test_size=0.2)"
   ]
  },
  {
   "cell_type": "code",
   "execution_count": 49,
   "metadata": {},
   "outputs": [
    {
     "data": {
      "text/plain": [
       "LogisticRegressionCV(Cs=10, class_weight=None, cv=None, dual=False,\n",
       "                     fit_intercept=True, intercept_scaling=1.0, l1_ratios=None,\n",
       "                     max_iter=100, multi_class='auto', n_jobs=None,\n",
       "                     penalty='l2', random_state=None, refit=True, scoring=None,\n",
       "                     solver='lbfgs', tol=0.0001, verbose=0)"
      ]
     },
     "execution_count": 49,
     "metadata": {},
     "output_type": "execute_result"
    }
   ],
   "source": [
    "model = LogisticRegressionCV()\n",
    "model.fit(X_train, y_train)"
   ]
  },
  {
   "cell_type": "code",
   "execution_count": 50,
   "metadata": {},
   "outputs": [
    {
     "name": "stderr",
     "output_type": "stream",
     "text": [
      "C:\\Users\\nilso\\Anaconda3\\lib\\site-packages\\sklearn\\base.py:197: FutureWarning: From version 0.24, get_params will raise an AttributeError if a parameter cannot be retrieved as an instance attribute. Previously it would return None.\n",
      "  FutureWarning)\n"
     ]
    },
    {
     "data": {
      "image/png": "[encoded data removed]",
      "text/plain": [
       "<Figure size 432x288 with 1 Axes>"
      ]
     },
     "metadata": {
      "needs_background": "light"
     },
     "output_type": "display_data"
    },
    {
     "data": {
      "text/plain": [
       "<matplotlib.axes._subplots.AxesSubplot at 0x24da8eae088>"
      ]
     },
     "execution_count": 50,
     "metadata": {},
     "output_type": "execute_result"
    }
   ],
   "source": [
    "lc = LearningCurve(model,scoring='precision', random_state=42)\n",
    "lc.fit(X,y)\n",
    "lc.show()"
   ]
  },
  {
   "cell_type": "code",
   "execution_count": 51,
   "metadata": {},
   "outputs": [
    {
     "data": {
      "text/plain": [
       "0.768921634293369"
      ]
     },
     "execution_count": 51,
     "metadata": {},
     "output_type": "execute_result"
    }
   ],
   "source": [
    "y_train.mean()"
   ]
  },
  {
   "cell_type": "code",
   "execution_count": 53,
   "metadata": {},
   "outputs": [],
   "source": [
    "y_pred_train = model.predict(X_train)\n",
    "y_pred_test = model.predict(X_test)"
   ]
  },
  {
   "cell_type": "code",
   "execution_count": 54,
   "metadata": {},
   "outputs": [
    {
     "name": "stdout",
     "output_type": "stream",
     "text": [
      "              precision    recall  f1-score   support\n",
      "\n",
      "       False       0.49      0.36      0.42       690\n",
      "        True       0.82      0.89      0.85      2296\n",
      "\n",
      "    accuracy                           0.77      2986\n",
      "   macro avg       0.66      0.63      0.64      2986\n",
      "weighted avg       0.75      0.77      0.75      2986\n",
      "\n"
     ]
    }
   ],
   "source": [
    "print(classification_report(y_train, y_pred_train))"
   ]
  },
  {
   "cell_type": "code",
   "execution_count": 55,
   "metadata": {},
   "outputs": [
    {
     "name": "stdout",
     "output_type": "stream",
     "text": [
      "              precision    recall  f1-score   support\n",
      "\n",
      "       False       0.49      0.42      0.45       142\n",
      "        True       0.87      0.90      0.88       605\n",
      "\n",
      "    accuracy                           0.81       747\n",
      "   macro avg       0.68      0.66      0.67       747\n",
      "weighted avg       0.80      0.81      0.80       747\n",
      "\n"
     ]
    }
   ],
   "source": [
    "print(classification_report(y_test, y_pred_test))"
   ]
  },
  {
   "cell_type": "code",
   "execution_count": 56,
   "metadata": {},
   "outputs": [],
   "source": [
    "from sklearn.metrics import roc_auc_score"
   ]
  },
  {
   "cell_type": "code",
   "execution_count": 57,
   "metadata": {},
   "outputs": [
    {
     "data": {
      "text/plain": [
       "0.7309160749621698"
      ]
     },
     "execution_count": 57,
     "metadata": {},
     "output_type": "execute_result"
    }
   ],
   "source": [
    "roc_auc_score(y_test, model.predict_proba(X_test)[:,1])"
   ]
  },
  {
   "cell_type": "code",
   "execution_count": 58,
   "metadata": {},
   "outputs": [
    {
     "name": "stderr",
     "output_type": "stream",
     "text": [
      "C:\\Users\\nilso\\Anaconda3\\lib\\site-packages\\sklearn\\base.py:197: FutureWarning: From version 0.24, get_params will raise an AttributeError if a parameter cannot be retrieved as an instance attribute. Previously it would return None.\n",
      "  FutureWarning)\n"
     ]
    },
    {
     "data": {
      "image/png": "[encoded data removed]",
      "text/plain": [
       "<Figure size 432x288 with 1 Axes>"
      ]
     },
     "metadata": {
      "needs_background": "light"
     },
     "output_type": "display_data"
    },
    {
     "data": {
      "text/plain": [
       "<matplotlib.axes._subplots.AxesSubplot at 0x24da924efc8>"
      ]
     },
     "execution_count": 58,
     "metadata": {},
     "output_type": "execute_result"
    }
   ],
   "source": [
    "from yellowbrick.classifier import ROCAUC\n",
    "\n",
    "# Instantiate the visualizer with the classification model\n",
    "visualizer = ROCAUC(model, classes=[\"Ruim\", \"Bom\"], micro=False, macro=False)\n",
    "\n",
    "visualizer.fit(X_train, y_train)        # Fit the training data to the visualizer\n",
    "visualizer.score(X_test, y_test)        # Evaluate the model on the test data\n",
    "visualizer.show()                       # Finalize and show the figure"
   ]
  },
  {
   "cell_type": "markdown",
   "metadata": {},
   "source": [
    "# Lightgbm\n"
   ]
  },
  {
   "cell_type": "code",
   "execution_count": 88,
   "metadata": {},
   "outputs": [
    {
     "data": {
      "text/plain": [
       "array([0.1  , 0.325, 0.55 , 0.775, 1.   ])"
      ]
     },
     "execution_count": 88,
     "metadata": {},
     "output_type": "execute_result"
    }
   ],
   "source": [
    "np.linspace(0.1,1,5)"
   ]
  },
  {
   "cell_type": "code",
   "execution_count": 89,
   "metadata": {},
   "outputs": [],
   "source": [
    "params_dict = {'learning_rate': np.linspace(0.1,1,5), 'max_depth': [1, 2, 4, 10], 'n_estimators': [100, 500, 1000]}"
   ]
  },
  {
   "cell_type": "raw",
   "metadata": {
    "scrolled": false
   },
   "source": [
    "model = RandomizedSearchCV(lightgbm.LGBMClassifier(), param_distributions=params_dict, random_state=42)\n",
    "model.fit(X_train, y_train)\n",
    "\n",
    "lc = LearningCurve(model,scoring='precision', random_state=42)\n",
    "lc.fit(X,y)\n",
    "lc.show()\n",
    "\n",
    "y_pred_train = model.predict(X_train)\n",
    "y_pred_test = model.predict(X_test)\n",
    "\n",
    "# Instantiate the visualizer with the classification model\n",
    "visualizer = ROCAUC(model, classes=[\"Ruim\", \"Bom\"], micro=False, macro=False)\n",
    "\n",
    "visualizer.fit(X_train, y_train)        # Fit the training data to the visualizer\n",
    "visualizer.score(X_test, y_test)        # Evaluate the model on the test data\n",
    "visualizer.show()                       # Finalize and show the figure"
   ]
  },
  {
   "cell_type": "code",
   "execution_count": 95,
   "metadata": {},
   "outputs": [
    {
     "data": {
      "text/plain": [
       "LGBMClassifier(boosting_type='gbdt', class_weight=None, colsample_bytree=1.0,\n",
       "               importance_type='split', learning_rate=0.325, max_depth=1,\n",
       "               min_child_samples=20, min_child_weight=0.001, min_split_gain=0.0,\n",
       "               n_estimators=100, n_jobs=-1, num_leaves=31, objective=None,\n",
       "               random_state=None, reg_alpha=0.0, reg_lambda=0.0, silent=True,\n",
       "               subsample=1.0, subsample_for_bin=200000, subsample_freq=0)"
      ]
     },
     "execution_count": 95,
     "metadata": {},
     "output_type": "execute_result"
    }
   ],
   "source": [
    "model.best_estimator_"
   ]
  },
  {
   "cell_type": "code",
   "execution_count": 91,
   "metadata": {},
   "outputs": [
    {
     "name": "stdout",
     "output_type": "stream",
     "text": [
      "              precision    recall  f1-score   support\n",
      "\n",
      "       False       0.78      0.47      0.59       690\n",
      "        True       0.86      0.96      0.91      2296\n",
      "\n",
      "    accuracy                           0.85      2986\n",
      "   macro avg       0.82      0.72      0.75      2986\n",
      "weighted avg       0.84      0.85      0.83      2986\n",
      "\n"
     ]
    }
   ],
   "source": [
    "print(classification_report(y_train, y_pred_train))"
   ]
  },
  {
   "cell_type": "code",
   "execution_count": 92,
   "metadata": {},
   "outputs": [
    {
     "name": "stdout",
     "output_type": "stream",
     "text": [
      "              precision    recall  f1-score   support\n",
      "\n",
      "       False       0.68      0.42      0.52       142\n",
      "        True       0.87      0.95      0.91       605\n",
      "\n",
      "    accuracy                           0.85       747\n",
      "   macro avg       0.78      0.68      0.71       747\n",
      "weighted avg       0.84      0.85      0.84       747\n",
      "\n"
     ]
    }
   ],
   "source": [
    "print(classification_report(y_test, y_pred_test))"
   ]
  },
  {
   "cell_type": "code",
   "execution_count": 94,
   "metadata": {
    "scrolled": true
   },
   "outputs": [
    {
     "data": {
      "text/plain": [
       "<matplotlib.axes._subplots.AxesSubplot at 0x24da95b6d48>"
      ]
     },
     "execution_count": 94,
     "metadata": {},
     "output_type": "execute_result"
    },
    {
     "data": {
      "image/png": "[encoded data removed]",
      "text/plain": [
       "<Figure size 432x288 with 1 Axes>"
      ]
     },
     "metadata": {
      "needs_background": "light"
     },
     "output_type": "display_data"
    }
   ],
   "source": [
    "lightgbm.plot_importance(model.best_estimator_, importance_type='gain')"
   ]
  }
 ],
 "metadata": {
  "kernelspec": {
   "display_name": "Python 3",
   "language": "python",
   "name": "python3"
  },
  "language_info": {
   "codemirror_mode": {
    "name": "ipython",
    "version": 3
   },
   "file_extension": ".py",
   "mimetype": "text/x-python",
   "name": "python",
   "nbconvert_exporter": "python",
   "pygments_lexer": "ipython3",
   "version": "3.7.5"
  },
  "latex_envs": {
   "LaTeX_envs_menu_present": true,
   "autoclose": false,
   "autocomplete": true,
   "bibliofile": "biblio.bib",
   "cite_by": "apalike",
   "current_citInitial": 1,
   "eqLabelWithNumbers": true,
   "eqNumInitial": 1,
   "hotkeys": {
    "equation": "Ctrl-E",
    "itemize": "Ctrl-I"
   },
   "labels_anchors": false,
   "latex_user_defs": false,
   "report_style_numbering": false,
   "user_envs_cfg": false
  },
  "toc": {
   "base_numbering": 1,
   "nav_menu": {},
   "number_sections": true,
   "sideBar": true,
   "skip_h1_title": false,
   "title_cell": "Table of Contents",
   "title_sidebar": "Contents",
   "toc_cell": false,
   "toc_position": {},
   "toc_section_display": true,
   "toc_window_display": false
  },
  "varInspector": {
   "cols": {
    "lenName": 16,
    "lenType": 16,
    "lenVar": 40
   },
   "kernels_config": {
    "python": {
     "delete_cmd_postfix": "",
     "delete_cmd_prefix": "del ",
     "library": "var_list.py",
     "varRefreshCmd": "print(var_dic_list())"
    },
    "r": {
     "delete_cmd_postfix": ") ",
     "delete_cmd_prefix": "rm(",
     "library": "var_list.r",
     "varRefreshCmd": "cat(var_dic_list()) "
    }
   },
   "types_to_exclude": [
    "module",
    "function",
    "builtin_function_or_method",
    "instance",
    "_Feature"
   ],
   "window_display": false
  }
 },
 "nbformat": 4,
 "nbformat_minor": 2
}
